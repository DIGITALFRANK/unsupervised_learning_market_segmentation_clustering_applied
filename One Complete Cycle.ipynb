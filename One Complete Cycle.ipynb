{
 "cells": [
  {
   "cell_type": "code",
   "execution_count": 1,
   "metadata": {},
   "outputs": [],
   "source": [
    "import matplotlib.pyplot as plt"
   ]
  },
  {
   "cell_type": "code",
   "execution_count": 2,
   "metadata": {},
   "outputs": [],
   "source": [
    "import pandas as pd\n",
    "import numpy as np"
   ]
  },
  {
   "cell_type": "code",
   "execution_count": 3,
   "metadata": {},
   "outputs": [],
   "source": [
    "df = pd.read_csv('raw data.csv', index_col=[0])"
   ]
  },
  {
   "cell_type": "code",
   "execution_count": 4,
   "metadata": {},
   "outputs": [],
   "source": [
    "df = df[df['InvoiceDate'] <= '2011-12-01 23:59:59']"
   ]
  },
  {
   "cell_type": "code",
   "execution_count": 5,
   "metadata": {},
   "outputs": [],
   "source": [
    "df['TotalRevenue'] = df['Quantity'] * df['UnitPrice']"
   ]
  },
  {
   "cell_type": "code",
   "execution_count": 6,
   "metadata": {},
   "outputs": [
    {
     "data": {
      "text/html": [
       "<div>\n",
       "<style scoped>\n",
       "    .dataframe tbody tr th:only-of-type {\n",
       "        vertical-align: middle;\n",
       "    }\n",
       "\n",
       "    .dataframe tbody tr th {\n",
       "        vertical-align: top;\n",
       "    }\n",
       "\n",
       "    .dataframe thead th {\n",
       "        text-align: right;\n",
       "    }\n",
       "</style>\n",
       "<table border=\"1\" class=\"dataframe\">\n",
       "  <thead>\n",
       "    <tr style=\"text-align: right;\">\n",
       "      <th></th>\n",
       "      <th>InvoiceNo</th>\n",
       "      <th>StockCode</th>\n",
       "      <th>Description</th>\n",
       "      <th>Quantity</th>\n",
       "      <th>InvoiceDate</th>\n",
       "      <th>UnitPrice</th>\n",
       "      <th>CustomerID</th>\n",
       "      <th>Country</th>\n",
       "      <th>TotalRevenue</th>\n",
       "    </tr>\n",
       "  </thead>\n",
       "  <tbody>\n",
       "    <tr>\n",
       "      <th>0</th>\n",
       "      <td>536365</td>\n",
       "      <td>85123A</td>\n",
       "      <td>WHITE HANGING HEART T-LIGHT HOLDER</td>\n",
       "      <td>6</td>\n",
       "      <td>2010-12-01 08:26:00</td>\n",
       "      <td>2.55</td>\n",
       "      <td>17850.0</td>\n",
       "      <td>United Kingdom</td>\n",
       "      <td>15.30</td>\n",
       "    </tr>\n",
       "    <tr>\n",
       "      <th>1</th>\n",
       "      <td>536365</td>\n",
       "      <td>71053</td>\n",
       "      <td>WHITE METAL LANTERN</td>\n",
       "      <td>6</td>\n",
       "      <td>2010-12-01 08:26:00</td>\n",
       "      <td>3.39</td>\n",
       "      <td>17850.0</td>\n",
       "      <td>United Kingdom</td>\n",
       "      <td>20.34</td>\n",
       "    </tr>\n",
       "  </tbody>\n",
       "</table>\n",
       "</div>"
      ],
      "text/plain": [
       "  InvoiceNo StockCode                         Description  Quantity  \\\n",
       "0    536365    85123A  WHITE HANGING HEART T-LIGHT HOLDER         6   \n",
       "1    536365     71053                 WHITE METAL LANTERN         6   \n",
       "\n",
       "           InvoiceDate  UnitPrice  CustomerID         Country  TotalRevenue  \n",
       "0  2010-12-01 08:26:00       2.55     17850.0  United Kingdom         15.30  \n",
       "1  2010-12-01 08:26:00       3.39     17850.0  United Kingdom         20.34  "
      ]
     },
     "execution_count": 6,
     "metadata": {},
     "output_type": "execute_result"
    }
   ],
   "source": [
    "df.head(2)"
   ]
  },
  {
   "cell_type": "code",
   "execution_count": 7,
   "metadata": {},
   "outputs": [],
   "source": [
    "invoice_count = df.groupby(['CustomerID'], as_index=False)['InvoiceNo'].count()"
   ]
  },
  {
   "cell_type": "code",
   "execution_count": 9,
   "metadata": {},
   "outputs": [],
   "source": [
    "invoice_count.rename(columns={'InvoiceNo': 'frequency'}, inplace=True)"
   ]
  },
  {
   "cell_type": "code",
   "execution_count": 10,
   "metadata": {},
   "outputs": [],
   "source": [
    "customer_total_revenue = df.groupby(['CustomerID'], as_index=False)['TotalRevenue'].sum()"
   ]
  },
  {
   "cell_type": "code",
   "execution_count": 11,
   "metadata": {},
   "outputs": [],
   "source": [
    "customer_total_revenue.rename(columns={'TotalRevenue': 'monetary'}, inplace=True)"
   ]
  },
  {
   "cell_type": "code",
   "execution_count": 13,
   "metadata": {},
   "outputs": [],
   "source": [
    "customer_total_revenue.monetary = round(customer_total_revenue.monetary, 2)"
   ]
  },
  {
   "cell_type": "code",
   "execution_count": 15,
   "metadata": {},
   "outputs": [],
   "source": [
    "customer_total_revenue_invoice_count = customer_total_revenue.merge(invoice_count, on='CustomerID', sort=True)"
   ]
  },
  {
   "cell_type": "code",
   "execution_count": 21,
   "metadata": {},
   "outputs": [
    {
     "data": {
      "image/png": "[encoded data removed]",
      "text/plain": [
       "<Figure size 360x360 with 1 Axes>"
      ]
     },
     "metadata": {
      "needs_background": "light"
     },
     "output_type": "display_data"
    }
   ],
   "source": [
    "plt.figure(figsize=(5,5))\n",
    "plt.scatter(customer_total_revenue_invoice_count.frequency, customer_total_revenue_invoice_count.monetary, s=5, alpha=0.2)\n",
    "plt.title('Customer Invoice Count (Frequency) vs Revenue')\n",
    "plt.xlabel('Frequency')\n",
    "plt.ylabel('Revenue')\n",
    "plt.show()"
   ]
  },
  {
   "cell_type": "code",
   "execution_count": 22,
   "metadata": {},
   "outputs": [],
   "source": [
    "df['InvoiceDate']= pd.to_datetime(df['InvoiceDate'])"
   ]
  },
  {
   "cell_type": "code",
   "execution_count": 23,
   "metadata": {},
   "outputs": [],
   "source": [
    "df['DaysSincePurchase'] = df['InvoiceDate'].max() - df['InvoiceDate']"
   ]
  },
  {
   "cell_type": "code",
   "execution_count": 24,
   "metadata": {},
   "outputs": [],
   "source": [
    "customer_since_purchase = df.groupby(['CustomerID'], as_index=False)['DaysSincePurchase'].min()"
   ]
  },
  {
   "cell_type": "code",
   "execution_count": 32,
   "metadata": {},
   "outputs": [],
   "source": [
    "RecentPurchase = customer_since_purchase['DaysSincePurchase']"
   ]
  },
  {
   "cell_type": "code",
   "execution_count": 33,
   "metadata": {},
   "outputs": [],
   "source": [
    "RecentPurchaseDays = [None] * len(RecentPurchase)"
   ]
  },
  {
   "cell_type": "code",
   "execution_count": 34,
   "metadata": {},
   "outputs": [],
   "source": [
    "for i in range(len(RecentPurchase)):\n",
    "    RecentPurchaseDays[i] = RecentPurchase[i].days"
   ]
  },
  {
   "cell_type": "code",
   "execution_count": 39,
   "metadata": {},
   "outputs": [],
   "source": [
    "customer_total_revenue_invoice_count_since_purchase['recency'] = RecentPurchaseDays"
   ]
  },
  {
   "cell_type": "code",
   "execution_count": 44,
   "metadata": {},
   "outputs": [],
   "source": [
    "customer_total_revenue_invoice_count_since_purchase['monetary'] = customer_total_revenue_invoice_count_since_purchase['monetary'].apply(lambda x: 0.01 if x <= 0 else x)"
   ]
  },
  {
   "cell_type": "code",
   "execution_count": 52,
   "metadata": {},
   "outputs": [],
   "source": [
    "customer_total_revenue_invoice_count_since_purchase['recency'] = customer_total_revenue_invoice_count_since_purchase['recency'].apply(lambda x: 0.01 if x <= 0 else x)"
   ]
  },
  {
   "cell_type": "markdown",
   "metadata": {},
   "source": [
    "# Log Transformation"
   ]
  },
  {
   "cell_type": "code",
   "execution_count": 84,
   "metadata": {},
   "outputs": [
    {
     "data": {
      "text/html": [
       "<div>\n",
       "<style scoped>\n",
       "    .dataframe tbody tr th:only-of-type {\n",
       "        vertical-align: middle;\n",
       "    }\n",
       "\n",
       "    .dataframe tbody tr th {\n",
       "        vertical-align: top;\n",
       "    }\n",
       "\n",
       "    .dataframe thead th {\n",
       "        text-align: right;\n",
       "    }\n",
       "</style>\n",
       "<table border=\"1\" class=\"dataframe\">\n",
       "  <thead>\n",
       "    <tr style=\"text-align: right;\">\n",
       "      <th></th>\n",
       "      <th>monetary</th>\n",
       "      <th>frequency</th>\n",
       "      <th>recency</th>\n",
       "      <th>customers</th>\n",
       "    </tr>\n",
       "  </thead>\n",
       "  <tbody>\n",
       "    <tr>\n",
       "      <th>0</th>\n",
       "      <td>-4.605170</td>\n",
       "      <td>0.693147</td>\n",
       "      <td>5.758902</td>\n",
       "      <td>12346.0</td>\n",
       "    </tr>\n",
       "    <tr>\n",
       "      <th>1</th>\n",
       "      <td>8.315121</td>\n",
       "      <td>5.141664</td>\n",
       "      <td>3.433987</td>\n",
       "      <td>12347.0</td>\n",
       "    </tr>\n",
       "    <tr>\n",
       "      <th>2</th>\n",
       "      <td>7.494007</td>\n",
       "      <td>3.433987</td>\n",
       "      <td>4.204693</td>\n",
       "      <td>12348.0</td>\n",
       "    </tr>\n",
       "    <tr>\n",
       "      <th>3</th>\n",
       "      <td>7.471676</td>\n",
       "      <td>4.290459</td>\n",
       "      <td>2.302585</td>\n",
       "      <td>12349.0</td>\n",
       "    </tr>\n",
       "    <tr>\n",
       "      <th>4</th>\n",
       "      <td>5.812338</td>\n",
       "      <td>2.833213</td>\n",
       "      <td>5.710427</td>\n",
       "      <td>12350.0</td>\n",
       "    </tr>\n",
       "  </tbody>\n",
       "</table>\n",
       "</div>"
      ],
      "text/plain": [
       "   monetary  frequency   recency  customers\n",
       "0 -4.605170   0.693147  5.758902    12346.0\n",
       "1  8.315121   5.141664  3.433987    12347.0\n",
       "2  7.494007   3.433987  4.204693    12348.0\n",
       "3  7.471676   4.290459  2.302585    12349.0\n",
       "4  5.812338   2.833213  5.710427    12350.0"
      ]
     },
     "execution_count": 84,
     "metadata": {},
     "output_type": "execute_result"
    }
   ],
   "source": [
    "log_features = pd.DataFrame()\n",
    "log_features['monetary'] = np.log(customer_total_revenue_invoice_count_since_purchase['monetary'])\n",
    "log_features['frequency'] = np.log(customer_total_revenue_invoice_count_since_purchase['frequency'])\n",
    "log_features['recency'] = np.log(customer_total_revenue_invoice_count_since_purchase['recency'])\n",
    "log_features['customers'] = customer_total_revenue_invoice_count_since_purchase.CustomerID\n",
    "log_features.head()"
   ]
  },
  {
   "cell_type": "markdown",
   "metadata": {},
   "source": [
    "# Standard Scaler"
   ]
  },
  {
   "cell_type": "code",
   "execution_count": 63,
   "metadata": {},
   "outputs": [],
   "source": [
    "from sklearn.preprocessing import StandardScaler\n",
    "from sklearn.cluster import KMeans"
   ]
  },
  {
   "cell_type": "code",
   "execution_count": 64,
   "metadata": {},
   "outputs": [],
   "source": [
    "scaler = StandardScaler()\n",
    "scaled_df = scaler.fit_transform(log_features)"
   ]
  },
  {
   "cell_type": "markdown",
   "metadata": {},
   "source": [
    "# KMeans"
   ]
  },
  {
   "cell_type": "code",
   "execution_count": 68,
   "metadata": {},
   "outputs": [],
   "source": [
    "from sklearn.metrics.cluster import adjusted_rand_score, calinski_harabaz_score"
   ]
  },
  {
   "cell_type": "code",
   "execution_count": 182,
   "metadata": {},
   "outputs": [],
   "source": [
    "k_means_scaled = KMeans(n_clusters=7)\n",
    "k_means_scaled.fit(scaled_df)\n",
    "\n",
    "cluster_preds_scaled = k_means_scaled.predict(scaled_df)"
   ]
  },
  {
   "cell_type": "code",
   "execution_count": 183,
   "metadata": {},
   "outputs": [],
   "source": [
    "log_features_with_preds = log_features.copy()"
   ]
  },
  {
   "cell_type": "code",
   "execution_count": 184,
   "metadata": {},
   "outputs": [],
   "source": [
    "log_features_with_preds['clusters'] = cluster_preds_scaled"
   ]
  },
  {
   "cell_type": "code",
   "execution_count": 185,
   "metadata": {},
   "outputs": [
    {
     "data": {
      "text/html": [
       "<div>\n",
       "<style scoped>\n",
       "    .dataframe tbody tr th:only-of-type {\n",
       "        vertical-align: middle;\n",
       "    }\n",
       "\n",
       "    .dataframe tbody tr th {\n",
       "        vertical-align: top;\n",
       "    }\n",
       "\n",
       "    .dataframe thead th {\n",
       "        text-align: right;\n",
       "    }\n",
       "</style>\n",
       "<table border=\"1\" class=\"dataframe\">\n",
       "  <thead>\n",
       "    <tr style=\"text-align: right;\">\n",
       "      <th></th>\n",
       "      <th>monetary</th>\n",
       "      <th>frequency</th>\n",
       "      <th>recency</th>\n",
       "      <th>customers</th>\n",
       "      <th>clusters</th>\n",
       "    </tr>\n",
       "  </thead>\n",
       "  <tbody>\n",
       "    <tr>\n",
       "      <th>0</th>\n",
       "      <td>-4.605170</td>\n",
       "      <td>0.693147</td>\n",
       "      <td>5.758902</td>\n",
       "      <td>12346.0</td>\n",
       "      <td>2</td>\n",
       "    </tr>\n",
       "    <tr>\n",
       "      <th>1</th>\n",
       "      <td>8.315121</td>\n",
       "      <td>5.141664</td>\n",
       "      <td>3.433987</td>\n",
       "      <td>12347.0</td>\n",
       "      <td>6</td>\n",
       "    </tr>\n",
       "    <tr>\n",
       "      <th>2</th>\n",
       "      <td>7.494007</td>\n",
       "      <td>3.433987</td>\n",
       "      <td>4.204693</td>\n",
       "      <td>12348.0</td>\n",
       "      <td>1</td>\n",
       "    </tr>\n",
       "    <tr>\n",
       "      <th>3</th>\n",
       "      <td>7.471676</td>\n",
       "      <td>4.290459</td>\n",
       "      <td>2.302585</td>\n",
       "      <td>12349.0</td>\n",
       "      <td>6</td>\n",
       "    </tr>\n",
       "    <tr>\n",
       "      <th>4</th>\n",
       "      <td>5.812338</td>\n",
       "      <td>2.833213</td>\n",
       "      <td>5.710427</td>\n",
       "      <td>12350.0</td>\n",
       "      <td>5</td>\n",
       "    </tr>\n",
       "  </tbody>\n",
       "</table>\n",
       "</div>"
      ],
      "text/plain": [
       "   monetary  frequency   recency  customers  clusters\n",
       "0 -4.605170   0.693147  5.758902    12346.0         2\n",
       "1  8.315121   5.141664  3.433987    12347.0         6\n",
       "2  7.494007   3.433987  4.204693    12348.0         1\n",
       "3  7.471676   4.290459  2.302585    12349.0         6\n",
       "4  5.812338   2.833213  5.710427    12350.0         5"
      ]
     },
     "execution_count": 185,
     "metadata": {},
     "output_type": "execute_result"
    }
   ],
   "source": [
    "log_features_with_preds.head()"
   ]
  },
  {
   "cell_type": "code",
   "execution_count": 186,
   "metadata": {
    "scrolled": true
   },
   "outputs": [],
   "source": [
    "clustered_df = customer_total_revenue_invoice_count_since_purchase.merge(log_features_with_preds[['clusters', 'customers']], left_on='CustomerID', right_on='customers', sort=True)"
   ]
  },
  {
   "cell_type": "code",
   "execution_count": 187,
   "metadata": {},
   "outputs": [
    {
     "data": {
      "text/html": [
       "<div>\n",
       "<style scoped>\n",
       "    .dataframe tbody tr th:only-of-type {\n",
       "        vertical-align: middle;\n",
       "    }\n",
       "\n",
       "    .dataframe tbody tr th {\n",
       "        vertical-align: top;\n",
       "    }\n",
       "\n",
       "    .dataframe thead th {\n",
       "        text-align: right;\n",
       "    }\n",
       "</style>\n",
       "<table border=\"1\" class=\"dataframe\">\n",
       "  <thead>\n",
       "    <tr style=\"text-align: right;\">\n",
       "      <th></th>\n",
       "      <th>CustomerID</th>\n",
       "      <th>monetary</th>\n",
       "      <th>frequency</th>\n",
       "      <th>recency</th>\n",
       "      <th>clusters</th>\n",
       "      <th>customers</th>\n",
       "    </tr>\n",
       "  </thead>\n",
       "  <tbody>\n",
       "    <tr>\n",
       "      <th>0</th>\n",
       "      <td>12346.0</td>\n",
       "      <td>0.01</td>\n",
       "      <td>2</td>\n",
       "      <td>317.0</td>\n",
       "      <td>2</td>\n",
       "      <td>12346.0</td>\n",
       "    </tr>\n",
       "    <tr>\n",
       "      <th>1</th>\n",
       "      <td>12347.0</td>\n",
       "      <td>4085.18</td>\n",
       "      <td>171</td>\n",
       "      <td>31.0</td>\n",
       "      <td>6</td>\n",
       "      <td>12347.0</td>\n",
       "    </tr>\n",
       "    <tr>\n",
       "      <th>2</th>\n",
       "      <td>12348.0</td>\n",
       "      <td>1797.24</td>\n",
       "      <td>31</td>\n",
       "      <td>67.0</td>\n",
       "      <td>1</td>\n",
       "      <td>12348.0</td>\n",
       "    </tr>\n",
       "    <tr>\n",
       "      <th>3</th>\n",
       "      <td>12349.0</td>\n",
       "      <td>1757.55</td>\n",
       "      <td>73</td>\n",
       "      <td>10.0</td>\n",
       "      <td>6</td>\n",
       "      <td>12349.0</td>\n",
       "    </tr>\n",
       "    <tr>\n",
       "      <th>4</th>\n",
       "      <td>12350.0</td>\n",
       "      <td>334.40</td>\n",
       "      <td>17</td>\n",
       "      <td>302.0</td>\n",
       "      <td>5</td>\n",
       "      <td>12350.0</td>\n",
       "    </tr>\n",
       "  </tbody>\n",
       "</table>\n",
       "</div>"
      ],
      "text/plain": [
       "   CustomerID  monetary  frequency  recency  clusters  customers\n",
       "0     12346.0      0.01          2    317.0         2    12346.0\n",
       "1     12347.0   4085.18        171     31.0         6    12347.0\n",
       "2     12348.0   1797.24         31     67.0         1    12348.0\n",
       "3     12349.0   1757.55         73     10.0         6    12349.0\n",
       "4     12350.0    334.40         17    302.0         5    12350.0"
      ]
     },
     "execution_count": 187,
     "metadata": {},
     "output_type": "execute_result"
    }
   ],
   "source": [
    "clustered_df.head()"
   ]
  },
  {
   "cell_type": "code",
   "execution_count": 188,
   "metadata": {},
   "outputs": [],
   "source": [
    "clustered_df.drop(columns='customers', inplace=True)"
   ]
  },
  {
   "cell_type": "code",
   "execution_count": 189,
   "metadata": {},
   "outputs": [
    {
     "data": {
      "text/plain": [
       "clusters\n",
       "0     382826.32\n",
       "1     928097.12\n",
       "2          0.54\n",
       "3    1029298.87\n",
       "4    2241699.66\n",
       "5     166774.08\n",
       "6    3265852.56\n",
       "Name: monetary, dtype: float64"
      ]
     },
     "execution_count": 189,
     "metadata": {},
     "output_type": "execute_result"
    }
   ],
   "source": [
    "clustered_df.groupby('clusters')['monetary'].sum()"
   ]
  },
  {
   "cell_type": "code",
   "execution_count": 190,
   "metadata": {},
   "outputs": [
    {
     "data": {
      "text/plain": [
       "'4.78'"
      ]
     },
     "execution_count": 190,
     "metadata": {},
     "output_type": "execute_result"
    }
   ],
   "source": [
    "str(round((clustered_df.groupby('clusters')['monetary'].sum()[0] / clustered_df['monetary'].sum()) * 100, 2))"
   ]
  },
  {
   "cell_type": "code",
   "execution_count": 191,
   "metadata": {},
   "outputs": [
    {
     "name": "stdout",
     "output_type": "stream",
     "text": [
      "cluster 0 monetary sum - 382826.32\n",
      "cluster 0 monetary mean - 397.95\n",
      "cluster 0 frequency mean - 21.0\n",
      "cluster 0 recency mean - 139.0\n",
      "cluster 0 count - 962\n",
      "cluster 0 monetary percentage - 4.78\n",
      "cluster 0 count percentage - 22.2\n",
      "\n",
      "cluster 1 monetary sum - 928097.12\n",
      "cluster 1 monetary mean - 906.34\n",
      "cluster 1 frequency mean - 49.0\n",
      "cluster 1 recency mean - 86.0\n",
      "cluster 1 count - 1024\n",
      "cluster 1 monetary percentage - 11.58\n",
      "cluster 1 count percentage - 23.63\n",
      "\n",
      "cluster 2 monetary sum - 0.54\n",
      "cluster 2 monetary mean - 0.01\n",
      "cluster 2 frequency mean - 11.0\n",
      "cluster 2 recency mean - 226.0\n",
      "cluster 2 count - 54\n",
      "cluster 2 monetary percentage - 0.0\n",
      "cluster 2 count percentage - 1.25\n",
      "\n",
      "cluster 3 monetary sum - 1029298.87\n",
      "cluster 3 monetary mean - 6908.05\n",
      "cluster 3 frequency mean - 310.0\n",
      "cluster 3 recency mean - 0.0\n",
      "cluster 3 count - 149\n",
      "cluster 3 monetary percentage - 12.84\n",
      "cluster 3 count percentage - 3.44\n",
      "\n",
      "cluster 4 monetary sum - 2241699.66\n",
      "cluster 4 monetary mean - 2410.43\n",
      "cluster 4 frequency mean - 137.0\n",
      "cluster 4 recency mean - 40.0\n",
      "cluster 4 count - 930\n",
      "cluster 4 monetary percentage - 27.97\n",
      "cluster 4 count percentage - 21.46\n",
      "\n",
      "cluster 5 monetary sum - 166774.08\n",
      "cluster 5 monetary mean - 254.23\n",
      "cluster 5 frequency mean - 10.0\n",
      "cluster 5 recency mean - 167.0\n",
      "cluster 5 count - 656\n",
      "cluster 5 monetary percentage - 2.08\n",
      "cluster 5 count percentage - 15.14\n",
      "\n",
      "cluster 6 monetary sum - 3265852.56\n",
      "cluster 6 monetary mean - 5842.31\n",
      "cluster 6 frequency mean - 250.0\n",
      "cluster 6 recency mean - 18.0\n",
      "cluster 6 count - 559\n",
      "cluster 6 monetary percentage - 40.75\n",
      "cluster 6 count percentage - 12.9\n",
      "\n"
     ]
    }
   ],
   "source": [
    "for i in range(clustered_df['clusters'].nunique()):\n",
    "    print('cluster ' + str(i) + ' monetary sum - ' + str(round(clustered_df.groupby('clusters')['monetary'].sum()[i], 2)))\n",
    "    print('cluster ' + str(i) + ' monetary mean - ' + str(round(clustered_df.groupby('clusters')['monetary'].mean()[i], 2)))\n",
    "    print('cluster ' + str(i) + ' frequency mean - ' + str(round(clustered_df.groupby('clusters')['frequency'].mean()[i])))\n",
    "    print('cluster ' + str(i) + ' recency mean - ' + str(round(clustered_df.groupby('clusters')['recency'].mean()[i])))\n",
    "    print('cluster ' + str(i) + ' count - ' + str(round(clustered_df.groupby('clusters')['recency'].count()[i])))\n",
    "    print('cluster ' + str(i) + ' monetary percentage - ' + str(round((clustered_df.groupby('clusters')['monetary'].sum()[i] / clustered_df['monetary'].sum()) * 100, 2)))\n",
    "    print('cluster ' + str(i) + ' count percentage - ' + str(round(clustered_df.groupby('clusters')['recency'].count()[i] / len(clustered_df) * 100, 2)))\n",
    "    print('')"
   ]
  },
  {
   "cell_type": "code",
   "execution_count": 159,
   "metadata": {},
   "outputs": [
    {
     "data": {
      "text/plain": [
       "31.86"
      ]
     },
     "execution_count": 159,
     "metadata": {},
     "output_type": "execute_result"
    }
   ],
   "source": [
    "round(clustered_df.groupby('clusters')['recency'].count()[0] / len(clustered_df) * 100, 2)\n"
   ]
  },
  {
   "cell_type": "code",
   "execution_count": 151,
   "metadata": {},
   "outputs": [
    {
     "data": {
      "text/plain": [
       "CustomerID    4334\n",
       "monetary      4334\n",
       "frequency     4334\n",
       "recency       4334\n",
       "clusters      4334\n",
       "dtype: int64"
      ]
     },
     "execution_count": 151,
     "metadata": {},
     "output_type": "execute_result"
    }
   ],
   "source": [
    "clustered_df.count()"
   ]
  },
  {
   "cell_type": "code",
   "execution_count": 153,
   "metadata": {},
   "outputs": [
    {
     "data": {
      "text/plain": [
       "4334"
      ]
     },
     "execution_count": 153,
     "metadata": {},
     "output_type": "execute_result"
    }
   ],
   "source": [
    "clustered_df['recency'].count()"
   ]
  },
  {
   "cell_type": "markdown",
   "metadata": {},
   "source": [
    "# Unscaled"
   ]
  },
  {
   "cell_type": "code",
   "execution_count": null,
   "metadata": {},
   "outputs": [],
   "source": []
  },
  {
   "cell_type": "code",
   "execution_count": 220,
   "metadata": {},
   "outputs": [],
   "source": [
    "k_means = KMeans(init='random', n_clusters=5, n_init=300, max_iter = 1000, n_jobs = -1)\n",
    "k_means.fit(log_features)\n",
    "\n",
    "cluster_preds = k_means.predict(log_features)"
   ]
  },
  {
   "cell_type": "code",
   "execution_count": 221,
   "metadata": {},
   "outputs": [],
   "source": [
    "log_features_non_scaled_with_preds = log_features.copy()"
   ]
  },
  {
   "cell_type": "code",
   "execution_count": 222,
   "metadata": {},
   "outputs": [],
   "source": [
    "log_features_non_scaled_with_preds['clusters'] = cluster_preds"
   ]
  },
  {
   "cell_type": "code",
   "execution_count": 223,
   "metadata": {},
   "outputs": [],
   "source": [
    "clustered_df_non_scaled = customer_total_revenue_invoice_count_since_purchase.merge(log_features_non_scaled_with_preds[['clusters', 'customers']], left_on='CustomerID', right_on='customers', sort=True)"
   ]
  },
  {
   "cell_type": "code",
   "execution_count": 224,
   "metadata": {},
   "outputs": [],
   "source": [
    "clustered_df_non_scaled.drop(columns='customers', inplace=True)"
   ]
  },
  {
   "cell_type": "code",
   "execution_count": 225,
   "metadata": {},
   "outputs": [
    {
     "name": "stdout",
     "output_type": "stream",
     "text": [
      "cluster 0 monetary sum - 1818451.51\n",
      "cluster 0 monetary mean - 2038.62\n",
      "cluster 0 frequency mean - 88.0\n",
      "cluster 0 recency mean - 90.0\n",
      "cluster 0 count - 892\n",
      "cluster 0 monetary percentage - 22.69\n",
      "cluster 0 count percentage - 20.58\n",
      "\n",
      "cluster 1 monetary sum - 1430598.54\n",
      "cluster 1 monetary mean - 1646.26\n",
      "cluster 1 frequency mean - 90.0\n",
      "cluster 1 recency mean - 92.0\n",
      "cluster 1 count - 869\n",
      "cluster 1 monetary percentage - 17.85\n",
      "cluster 1 count percentage - 20.05\n",
      "\n",
      "cluster 2 monetary sum - 1690384.21\n",
      "cluster 2 monetary mean - 1998.09\n",
      "cluster 2 frequency mean - 91.0\n",
      "cluster 2 recency mean - 95.0\n",
      "cluster 2 count - 846\n",
      "cluster 2 monetary percentage - 21.09\n",
      "cluster 2 count percentage - 19.52\n",
      "\n",
      "cluster 3 monetary sum - 1808879.69\n",
      "cluster 3 monetary mean - 2088.78\n",
      "cluster 3 frequency mean - 99.0\n",
      "cluster 3 recency mean - 87.0\n",
      "cluster 3 count - 866\n",
      "cluster 3 monetary percentage - 22.57\n",
      "cluster 3 count percentage - 19.98\n",
      "\n",
      "cluster 4 monetary sum - 1266235.2\n",
      "cluster 4 monetary mean - 1470.66\n",
      "cluster 4 frequency mean - 84.0\n",
      "cluster 4 recency mean - 87.0\n",
      "cluster 4 count - 861\n",
      "cluster 4 monetary percentage - 15.8\n",
      "cluster 4 count percentage - 19.87\n",
      "\n"
     ]
    }
   ],
   "source": [
    "for i in range(clustered_df_non_scaled['clusters'].nunique()):\n",
    "    print('cluster ' + str(i) + ' monetary sum - ' + str(round(clustered_df_non_scaled.groupby('clusters')['monetary'].sum()[i], 2)))\n",
    "    print('cluster ' + str(i) + ' monetary mean - ' + str(round(clustered_df_non_scaled.groupby('clusters')['monetary'].mean()[i], 2)))\n",
    "    print('cluster ' + str(i) + ' frequency mean - ' + str(round(clustered_df_non_scaled.groupby('clusters')['frequency'].mean()[i])))\n",
    "    print('cluster ' + str(i) + ' recency mean - ' + str(round(clustered_df_non_scaled.groupby('clusters')['recency'].mean()[i])))\n",
    "    print('cluster ' + str(i) + ' count - ' + str(round(clustered_df_non_scaled.groupby('clusters')['recency'].count()[i])))\n",
    "    print('cluster ' + str(i) + ' monetary percentage - ' + str(round((clustered_df_non_scaled.groupby('clusters')['monetary'].sum()[i] / clustered_df_non_scaled['monetary'].sum()) * 100, 2)))\n",
    "    print('cluster ' + str(i) + ' count percentage - ' + str(round(clustered_df_non_scaled.groupby('clusters')['recency'].count()[i] / len(clustered_df_non_scaled) * 100, 2)))\n",
    "    print('')"
   ]
  },
  {
   "cell_type": "code",
   "execution_count": null,
   "metadata": {},
   "outputs": [],
   "source": []
  },
  {
   "cell_type": "code",
   "execution_count": null,
   "metadata": {},
   "outputs": [],
   "source": [
    "\"\""
   ]
  }
 ],
 "metadata": {
  "kernelspec": {
   "display_name": "Python 3",
   "language": "python",
   "name": "python3"
  },
  "language_info": {
   "codemirror_mode": {
    "name": "ipython",
    "version": 3
   },
   "file_extension": ".py",
   "mimetype": "text/x-python",
   "name": "python",
   "nbconvert_exporter": "python",
   "pygments_lexer": "ipython3",
   "version": "3.7.3"
  }
 },
 "nbformat": 4,
 "nbformat_minor": 2
}
