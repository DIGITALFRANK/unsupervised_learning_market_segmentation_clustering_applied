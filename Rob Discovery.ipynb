{
 "cells": [
  {
   "cell_type": "code",
   "execution_count": null,
   "metadata": {},
   "outputs": [],
   "source": [
    "import datetime\n",
    "import math"
   ]
  },
  {
   "cell_type": "code",
   "execution_count": 54,
   "metadata": {},
   "outputs": [],
   "source": [
    "import matplotlib.pyplot as plt"
   ]
  },
  {
   "cell_type": "code",
   "execution_count": 2,
   "metadata": {},
   "outputs": [],
   "source": [
    "import pandas as pd\n",
    "import numpy as np\n",
    "from tqdm import tqdm_notebook"
   ]
  },
  {
   "cell_type": "code",
   "execution_count": 136,
   "metadata": {},
   "outputs": [],
   "source": [
    "df = pd.read_csv('raw data.csv', index_col=[0])"
   ]
  },
  {
   "cell_type": "code",
   "execution_count": 137,
   "metadata": {
    "scrolled": false
   },
   "outputs": [
    {
     "name": "stdout",
     "output_type": "stream",
     "text": [
      "(541909, 8)\n"
     ]
    },
    {
     "data": {
      "text/html": [
       "<div>\n",
       "<style scoped>\n",
       "    .dataframe tbody tr th:only-of-type {\n",
       "        vertical-align: middle;\n",
       "    }\n",
       "\n",
       "    .dataframe tbody tr th {\n",
       "        vertical-align: top;\n",
       "    }\n",
       "\n",
       "    .dataframe thead th {\n",
       "        text-align: right;\n",
       "    }\n",
       "</style>\n",
       "<table border=\"1\" class=\"dataframe\">\n",
       "  <thead>\n",
       "    <tr style=\"text-align: right;\">\n",
       "      <th></th>\n",
       "      <th>InvoiceNo</th>\n",
       "      <th>StockCode</th>\n",
       "      <th>Description</th>\n",
       "      <th>Quantity</th>\n",
       "      <th>InvoiceDate</th>\n",
       "      <th>UnitPrice</th>\n",
       "      <th>CustomerID</th>\n",
       "      <th>Country</th>\n",
       "    </tr>\n",
       "  </thead>\n",
       "  <tbody>\n",
       "    <tr>\n",
       "      <th>0</th>\n",
       "      <td>536365</td>\n",
       "      <td>85123A</td>\n",
       "      <td>WHITE HANGING HEART T-LIGHT HOLDER</td>\n",
       "      <td>6</td>\n",
       "      <td>2010-12-01 08:26:00</td>\n",
       "      <td>2.55</td>\n",
       "      <td>17850.0</td>\n",
       "      <td>United Kingdom</td>\n",
       "    </tr>\n",
       "    <tr>\n",
       "      <th>1</th>\n",
       "      <td>536365</td>\n",
       "      <td>71053</td>\n",
       "      <td>WHITE METAL LANTERN</td>\n",
       "      <td>6</td>\n",
       "      <td>2010-12-01 08:26:00</td>\n",
       "      <td>3.39</td>\n",
       "      <td>17850.0</td>\n",
       "      <td>United Kingdom</td>\n",
       "    </tr>\n",
       "    <tr>\n",
       "      <th>2</th>\n",
       "      <td>536365</td>\n",
       "      <td>84406B</td>\n",
       "      <td>CREAM CUPID HEARTS COAT HANGER</td>\n",
       "      <td>8</td>\n",
       "      <td>2010-12-01 08:26:00</td>\n",
       "      <td>2.75</td>\n",
       "      <td>17850.0</td>\n",
       "      <td>United Kingdom</td>\n",
       "    </tr>\n",
       "    <tr>\n",
       "      <th>3</th>\n",
       "      <td>536365</td>\n",
       "      <td>84029G</td>\n",
       "      <td>KNITTED UNION FLAG HOT WATER BOTTLE</td>\n",
       "      <td>6</td>\n",
       "      <td>2010-12-01 08:26:00</td>\n",
       "      <td>3.39</td>\n",
       "      <td>17850.0</td>\n",
       "      <td>United Kingdom</td>\n",
       "    </tr>\n",
       "    <tr>\n",
       "      <th>4</th>\n",
       "      <td>536365</td>\n",
       "      <td>84029E</td>\n",
       "      <td>RED WOOLLY HOTTIE WHITE HEART.</td>\n",
       "      <td>6</td>\n",
       "      <td>2010-12-01 08:26:00</td>\n",
       "      <td>3.39</td>\n",
       "      <td>17850.0</td>\n",
       "      <td>United Kingdom</td>\n",
       "    </tr>\n",
       "  </tbody>\n",
       "</table>\n",
       "</div>"
      ],
      "text/plain": [
       "  InvoiceNo StockCode                          Description  Quantity  \\\n",
       "0    536365    85123A   WHITE HANGING HEART T-LIGHT HOLDER         6   \n",
       "1    536365     71053                  WHITE METAL LANTERN         6   \n",
       "2    536365    84406B       CREAM CUPID HEARTS COAT HANGER         8   \n",
       "3    536365    84029G  KNITTED UNION FLAG HOT WATER BOTTLE         6   \n",
       "4    536365    84029E       RED WOOLLY HOTTIE WHITE HEART.         6   \n",
       "\n",
       "           InvoiceDate  UnitPrice  CustomerID         Country  \n",
       "0  2010-12-01 08:26:00       2.55     17850.0  United Kingdom  \n",
       "1  2010-12-01 08:26:00       3.39     17850.0  United Kingdom  \n",
       "2  2010-12-01 08:26:00       2.75     17850.0  United Kingdom  \n",
       "3  2010-12-01 08:26:00       3.39     17850.0  United Kingdom  \n",
       "4  2010-12-01 08:26:00       3.39     17850.0  United Kingdom  "
      ]
     },
     "execution_count": 137,
     "metadata": {},
     "output_type": "execute_result"
    }
   ],
   "source": [
    "print(df.shape)\n",
    "df.head()"
   ]
  },
  {
   "cell_type": "code",
   "execution_count": 138,
   "metadata": {},
   "outputs": [],
   "source": [
    "# create a copy of the dataframe so the excel file doesn't have to be read again\n",
    "df_copy = df.copy()"
   ]
  },
  {
   "cell_type": "markdown",
   "metadata": {},
   "source": [
    "# Data Discovery\n",
    "\n",
    "- 541,909 rows\n",
    "- 4,372 Unique CustomerID values\n",
    "- 25,900 Unique InvoiceNo values\n",
    "- 4,070 Unique StockCode values\n",
    "- 38,970 max unit price\n",
    "- 0.03 min unit price\n",
    "- 9,287 returns\n",
    "- date range is (2010-12-01 to 2011-12-09)\n",
    "- 11,481 items are returns"
   ]
  },
  {
   "cell_type": "code",
   "execution_count": 139,
   "metadata": {},
   "outputs": [],
   "source": [
    "df = df[df['InvoiceDate'] <= '2011-12-01 23:59:59']"
   ]
  },
  {
   "cell_type": "code",
   "execution_count": 140,
   "metadata": {
    "scrolled": false
   },
   "outputs": [
    {
     "data": {
      "text/html": [
       "<div>\n",
       "<style scoped>\n",
       "    .dataframe tbody tr th:only-of-type {\n",
       "        vertical-align: middle;\n",
       "    }\n",
       "\n",
       "    .dataframe tbody tr th {\n",
       "        vertical-align: top;\n",
       "    }\n",
       "\n",
       "    .dataframe thead th {\n",
       "        text-align: right;\n",
       "    }\n",
       "</style>\n",
       "<table border=\"1\" class=\"dataframe\">\n",
       "  <thead>\n",
       "    <tr style=\"text-align: right;\">\n",
       "      <th></th>\n",
       "      <th>InvoiceNo</th>\n",
       "      <th>StockCode</th>\n",
       "      <th>Description</th>\n",
       "      <th>Quantity</th>\n",
       "      <th>InvoiceDate</th>\n",
       "      <th>UnitPrice</th>\n",
       "      <th>CustomerID</th>\n",
       "      <th>Country</th>\n",
       "    </tr>\n",
       "  </thead>\n",
       "  <tbody>\n",
       "    <tr>\n",
       "      <th>299982</th>\n",
       "      <td>A563185</td>\n",
       "      <td>B</td>\n",
       "      <td>Adjust bad debt</td>\n",
       "      <td>1</td>\n",
       "      <td>2011-08-12 14:50:00</td>\n",
       "      <td>11062.06</td>\n",
       "      <td>NaN</td>\n",
       "      <td>United Kingdom</td>\n",
       "    </tr>\n",
       "    <tr>\n",
       "      <th>299983</th>\n",
       "      <td>A563186</td>\n",
       "      <td>B</td>\n",
       "      <td>Adjust bad debt</td>\n",
       "      <td>1</td>\n",
       "      <td>2011-08-12 14:51:00</td>\n",
       "      <td>-11062.06</td>\n",
       "      <td>NaN</td>\n",
       "      <td>United Kingdom</td>\n",
       "    </tr>\n",
       "    <tr>\n",
       "      <th>299984</th>\n",
       "      <td>A563187</td>\n",
       "      <td>B</td>\n",
       "      <td>Adjust bad debt</td>\n",
       "      <td>1</td>\n",
       "      <td>2011-08-12 14:52:00</td>\n",
       "      <td>-11062.06</td>\n",
       "      <td>NaN</td>\n",
       "      <td>United Kingdom</td>\n",
       "    </tr>\n",
       "  </tbody>\n",
       "</table>\n",
       "</div>"
      ],
      "text/plain": [
       "       InvoiceNo StockCode      Description  Quantity          InvoiceDate  \\\n",
       "299982   A563185         B  Adjust bad debt         1  2011-08-12 14:50:00   \n",
       "299983   A563186         B  Adjust bad debt         1  2011-08-12 14:51:00   \n",
       "299984   A563187         B  Adjust bad debt         1  2011-08-12 14:52:00   \n",
       "\n",
       "        UnitPrice  CustomerID         Country  \n",
       "299982   11062.06         NaN  United Kingdom  \n",
       "299983  -11062.06         NaN  United Kingdom  \n",
       "299984  -11062.06         NaN  United Kingdom  "
      ]
     },
     "execution_count": 140,
     "metadata": {},
     "output_type": "execute_result"
    }
   ],
   "source": [
    "df[df.StockCode == 'B']"
   ]
  },
  {
   "cell_type": "code",
   "execution_count": 141,
   "metadata": {
    "scrolled": true
   },
   "outputs": [],
   "source": [
    "df = df[df.StockCode != 'B']"
   ]
  },
  {
   "cell_type": "markdown",
   "metadata": {},
   "source": [
    "A few items that are less than 0.01 and the quantity doesn't bring them to 0.01 will also be dropped"
   ]
  },
  {
   "cell_type": "code",
   "execution_count": 142,
   "metadata": {
    "scrolled": true
   },
   "outputs": [
    {
     "data": {
      "text/html": [
       "<div>\n",
       "<style scoped>\n",
       "    .dataframe tbody tr th:only-of-type {\n",
       "        vertical-align: middle;\n",
       "    }\n",
       "\n",
       "    .dataframe tbody tr th {\n",
       "        vertical-align: top;\n",
       "    }\n",
       "\n",
       "    .dataframe thead th {\n",
       "        text-align: right;\n",
       "    }\n",
       "</style>\n",
       "<table border=\"1\" class=\"dataframe\">\n",
       "  <thead>\n",
       "    <tr style=\"text-align: right;\">\n",
       "      <th></th>\n",
       "      <th>InvoiceNo</th>\n",
       "      <th>StockCode</th>\n",
       "      <th>Description</th>\n",
       "      <th>Quantity</th>\n",
       "      <th>InvoiceDate</th>\n",
       "      <th>UnitPrice</th>\n",
       "      <th>CustomerID</th>\n",
       "      <th>Country</th>\n",
       "      <th>TotalRevenue</th>\n",
       "    </tr>\n",
       "  </thead>\n",
       "  <tbody>\n",
       "    <tr>\n",
       "      <th>0</th>\n",
       "      <td>536365</td>\n",
       "      <td>85123A</td>\n",
       "      <td>WHITE HANGING HEART T-LIGHT HOLDER</td>\n",
       "      <td>6</td>\n",
       "      <td>2010-12-01 08:26:00</td>\n",
       "      <td>2.55</td>\n",
       "      <td>17850.0</td>\n",
       "      <td>United Kingdom</td>\n",
       "      <td>15.30</td>\n",
       "    </tr>\n",
       "    <tr>\n",
       "      <th>1</th>\n",
       "      <td>536365</td>\n",
       "      <td>71053</td>\n",
       "      <td>WHITE METAL LANTERN</td>\n",
       "      <td>6</td>\n",
       "      <td>2010-12-01 08:26:00</td>\n",
       "      <td>3.39</td>\n",
       "      <td>17850.0</td>\n",
       "      <td>United Kingdom</td>\n",
       "      <td>20.34</td>\n",
       "    </tr>\n",
       "  </tbody>\n",
       "</table>\n",
       "</div>"
      ],
      "text/plain": [
       "  InvoiceNo StockCode                         Description  Quantity  \\\n",
       "0    536365    85123A  WHITE HANGING HEART T-LIGHT HOLDER         6   \n",
       "1    536365     71053                 WHITE METAL LANTERN         6   \n",
       "\n",
       "           InvoiceDate  UnitPrice  CustomerID         Country  TotalRevenue  \n",
       "0  2010-12-01 08:26:00       2.55     17850.0  United Kingdom         15.30  \n",
       "1  2010-12-01 08:26:00       3.39     17850.0  United Kingdom         20.34  "
      ]
     },
     "execution_count": 142,
     "metadata": {},
     "output_type": "execute_result"
    }
   ],
   "source": [
    "df['TotalRevenue'] = df['Quantity'] * df['UnitPrice']\n",
    "df.head(2)"
   ]
  },
  {
   "cell_type": "code",
   "execution_count": 1,
   "metadata": {},
   "outputs": [
    {
     "ename": "NameError",
     "evalue": "name 'df' is not defined",
     "output_type": "error",
     "traceback": [
      "\u001b[0;31m---------------------------------------------------------------------------\u001b[0m",
      "\u001b[0;31mNameError\u001b[0m                                 Traceback (most recent call last)",
      "\u001b[0;32m<ipython-input-1-e599e052ef68>\u001b[0m in \u001b[0;36m<module>\u001b[0;34m()\u001b[0m\n\u001b[0;32m----> 1\u001b[0;31m \u001b[0mdf\u001b[0m\u001b[0;34m[\u001b[0m\u001b[0mdf\u001b[0m\u001b[0;34m[\u001b[0m\u001b[0;34m'TotalRevenue'\u001b[0m\u001b[0;34m]\u001b[0m \u001b[0;34m<\u001b[0m \u001b[0;36m.01\u001b[0m\u001b[0;34m]\u001b[0m\u001b[0;34m.\u001b[0m\u001b[0mhead\u001b[0m\u001b[0;34m(\u001b[0m\u001b[0;36m2\u001b[0m\u001b[0;34m)\u001b[0m\u001b[0;34m\u001b[0m\u001b[0m\n\u001b[0m",
      "\u001b[0;31mNameError\u001b[0m: name 'df' is not defined"
     ]
    }
   ],
   "source": [
    "df[df['TotalRevenue'] < .01].head(2)"
   ]
  },
  {
   "cell_type": "markdown",
   "metadata": {},
   "source": [
    "### Creating a dataframe of customers, their total revenue, number of invoices during the timeframe and time since last purchase"
   ]
  },
  {
   "cell_type": "code",
   "execution_count": 144,
   "metadata": {},
   "outputs": [],
   "source": [
    "# grouped_customers = df.groupby(['CustomerID', 'InvoiceNo']).sum()"
   ]
  },
  {
   "cell_type": "code",
   "execution_count": 145,
   "metadata": {},
   "outputs": [
    {
     "ename": "KeyError",
     "evalue": "1",
     "output_type": "error",
     "traceback": [
      "\u001b[0;31m---------------------------------------------------------------------------\u001b[0m",
      "\u001b[0;31mKeyError\u001b[0m                                  Traceback (most recent call last)",
      "\u001b[0;32m~/anaconda3/envs/learn-env/lib/python3.6/site-packages/pandas/core/indexes/base.py\u001b[0m in \u001b[0;36mget_loc\u001b[0;34m(self, key, method, tolerance)\u001b[0m\n\u001b[1;32m   3077\u001b[0m             \u001b[0;32mtry\u001b[0m\u001b[0;34m:\u001b[0m\u001b[0;34m\u001b[0m\u001b[0m\n\u001b[0;32m-> 3078\u001b[0;31m                 \u001b[0;32mreturn\u001b[0m \u001b[0mself\u001b[0m\u001b[0;34m.\u001b[0m\u001b[0m_engine\u001b[0m\u001b[0;34m.\u001b[0m\u001b[0mget_loc\u001b[0m\u001b[0;34m(\u001b[0m\u001b[0mkey\u001b[0m\u001b[0;34m)\u001b[0m\u001b[0;34m\u001b[0m\u001b[0m\n\u001b[0m\u001b[1;32m   3079\u001b[0m             \u001b[0;32mexcept\u001b[0m \u001b[0mKeyError\u001b[0m\u001b[0;34m:\u001b[0m\u001b[0;34m\u001b[0m\u001b[0m\n",
      "\u001b[0;32mpandas/_libs/index.pyx\u001b[0m in \u001b[0;36mpandas._libs.index.IndexEngine.get_loc\u001b[0;34m()\u001b[0m\n",
      "\u001b[0;32mpandas/_libs/index.pyx\u001b[0m in \u001b[0;36mpandas._libs.index.IndexEngine.get_loc\u001b[0;34m()\u001b[0m\n",
      "\u001b[0;32mpandas/_libs/hashtable_class_helper.pxi\u001b[0m in \u001b[0;36mpandas._libs.hashtable.PyObjectHashTable.get_item\u001b[0;34m()\u001b[0m\n",
      "\u001b[0;32mpandas/_libs/hashtable_class_helper.pxi\u001b[0m in \u001b[0;36mpandas._libs.hashtable.PyObjectHashTable.get_item\u001b[0;34m()\u001b[0m\n",
      "\u001b[0;31mKeyError\u001b[0m: 1",
      "\nDuring handling of the above exception, another exception occurred:\n",
      "\u001b[0;31mKeyError\u001b[0m                                  Traceback (most recent call last)",
      "\u001b[0;32m<ipython-input-145-aa4b1be55fbd>\u001b[0m in \u001b[0;36m<module>\u001b[0;34m()\u001b[0m\n\u001b[0;32m----> 1\u001b[0;31m \u001b[0minvoice_count\u001b[0m \u001b[0;34m=\u001b[0m \u001b[0mdf\u001b[0m\u001b[0;34m.\u001b[0m\u001b[0mgroupby\u001b[0m\u001b[0;34m(\u001b[0m\u001b[0;34m[\u001b[0m\u001b[0;34m'CustomerID'\u001b[0m\u001b[0;34m]\u001b[0m\u001b[0;34m,\u001b[0m \u001b[0mas_index\u001b[0m\u001b[0;34m=\u001b[0m\u001b[0;32mFalse\u001b[0m\u001b[0;34m)\u001b[0m\u001b[0;34m[\u001b[0m\u001b[0;34m'InvoiceNo'\u001b[0m\u001b[0;34m]\u001b[0m\u001b[0;34m.\u001b[0m\u001b[0mcount\u001b[0m\u001b[0;34m(\u001b[0m\u001b[0;34m)\u001b[0m\u001b[0;34m[\u001b[0m\u001b[0;36m1\u001b[0m\u001b[0;34m]\u001b[0m\u001b[0;34m\u001b[0m\u001b[0m\n\u001b[0m",
      "\u001b[0;32m~/anaconda3/envs/learn-env/lib/python3.6/site-packages/pandas/core/frame.py\u001b[0m in \u001b[0;36m__getitem__\u001b[0;34m(self, key)\u001b[0m\n\u001b[1;32m   2686\u001b[0m             \u001b[0;32mreturn\u001b[0m \u001b[0mself\u001b[0m\u001b[0;34m.\u001b[0m\u001b[0m_getitem_multilevel\u001b[0m\u001b[0;34m(\u001b[0m\u001b[0mkey\u001b[0m\u001b[0;34m)\u001b[0m\u001b[0;34m\u001b[0m\u001b[0m\n\u001b[1;32m   2687\u001b[0m         \u001b[0;32melse\u001b[0m\u001b[0;34m:\u001b[0m\u001b[0;34m\u001b[0m\u001b[0m\n\u001b[0;32m-> 2688\u001b[0;31m             \u001b[0;32mreturn\u001b[0m \u001b[0mself\u001b[0m\u001b[0;34m.\u001b[0m\u001b[0m_getitem_column\u001b[0m\u001b[0;34m(\u001b[0m\u001b[0mkey\u001b[0m\u001b[0;34m)\u001b[0m\u001b[0;34m\u001b[0m\u001b[0m\n\u001b[0m\u001b[1;32m   2689\u001b[0m \u001b[0;34m\u001b[0m\u001b[0m\n\u001b[1;32m   2690\u001b[0m     \u001b[0;32mdef\u001b[0m \u001b[0m_getitem_column\u001b[0m\u001b[0;34m(\u001b[0m\u001b[0mself\u001b[0m\u001b[0;34m,\u001b[0m \u001b[0mkey\u001b[0m\u001b[0;34m)\u001b[0m\u001b[0;34m:\u001b[0m\u001b[0;34m\u001b[0m\u001b[0m\n",
      "\u001b[0;32m~/anaconda3/envs/learn-env/lib/python3.6/site-packages/pandas/core/frame.py\u001b[0m in \u001b[0;36m_getitem_column\u001b[0;34m(self, key)\u001b[0m\n\u001b[1;32m   2693\u001b[0m         \u001b[0;31m# get column\u001b[0m\u001b[0;34m\u001b[0m\u001b[0;34m\u001b[0m\u001b[0m\n\u001b[1;32m   2694\u001b[0m         \u001b[0;32mif\u001b[0m \u001b[0mself\u001b[0m\u001b[0;34m.\u001b[0m\u001b[0mcolumns\u001b[0m\u001b[0;34m.\u001b[0m\u001b[0mis_unique\u001b[0m\u001b[0;34m:\u001b[0m\u001b[0;34m\u001b[0m\u001b[0m\n\u001b[0;32m-> 2695\u001b[0;31m             \u001b[0;32mreturn\u001b[0m \u001b[0mself\u001b[0m\u001b[0;34m.\u001b[0m\u001b[0m_get_item_cache\u001b[0m\u001b[0;34m(\u001b[0m\u001b[0mkey\u001b[0m\u001b[0;34m)\u001b[0m\u001b[0;34m\u001b[0m\u001b[0m\n\u001b[0m\u001b[1;32m   2696\u001b[0m \u001b[0;34m\u001b[0m\u001b[0m\n\u001b[1;32m   2697\u001b[0m         \u001b[0;31m# duplicate columns & possible reduce dimensionality\u001b[0m\u001b[0;34m\u001b[0m\u001b[0;34m\u001b[0m\u001b[0m\n",
      "\u001b[0;32m~/anaconda3/envs/learn-env/lib/python3.6/site-packages/pandas/core/generic.py\u001b[0m in \u001b[0;36m_get_item_cache\u001b[0;34m(self, item)\u001b[0m\n\u001b[1;32m   2487\u001b[0m         \u001b[0mres\u001b[0m \u001b[0;34m=\u001b[0m \u001b[0mcache\u001b[0m\u001b[0;34m.\u001b[0m\u001b[0mget\u001b[0m\u001b[0;34m(\u001b[0m\u001b[0mitem\u001b[0m\u001b[0;34m)\u001b[0m\u001b[0;34m\u001b[0m\u001b[0m\n\u001b[1;32m   2488\u001b[0m         \u001b[0;32mif\u001b[0m \u001b[0mres\u001b[0m \u001b[0;32mis\u001b[0m \u001b[0;32mNone\u001b[0m\u001b[0;34m:\u001b[0m\u001b[0;34m\u001b[0m\u001b[0m\n\u001b[0;32m-> 2489\u001b[0;31m             \u001b[0mvalues\u001b[0m \u001b[0;34m=\u001b[0m \u001b[0mself\u001b[0m\u001b[0;34m.\u001b[0m\u001b[0m_data\u001b[0m\u001b[0;34m.\u001b[0m\u001b[0mget\u001b[0m\u001b[0;34m(\u001b[0m\u001b[0mitem\u001b[0m\u001b[0;34m)\u001b[0m\u001b[0;34m\u001b[0m\u001b[0m\n\u001b[0m\u001b[1;32m   2490\u001b[0m             \u001b[0mres\u001b[0m \u001b[0;34m=\u001b[0m \u001b[0mself\u001b[0m\u001b[0;34m.\u001b[0m\u001b[0m_box_item_values\u001b[0m\u001b[0;34m(\u001b[0m\u001b[0mitem\u001b[0m\u001b[0;34m,\u001b[0m \u001b[0mvalues\u001b[0m\u001b[0;34m)\u001b[0m\u001b[0;34m\u001b[0m\u001b[0m\n\u001b[1;32m   2491\u001b[0m             \u001b[0mcache\u001b[0m\u001b[0;34m[\u001b[0m\u001b[0mitem\u001b[0m\u001b[0;34m]\u001b[0m \u001b[0;34m=\u001b[0m \u001b[0mres\u001b[0m\u001b[0;34m\u001b[0m\u001b[0m\n",
      "\u001b[0;32m~/anaconda3/envs/learn-env/lib/python3.6/site-packages/pandas/core/internals.py\u001b[0m in \u001b[0;36mget\u001b[0;34m(self, item, fastpath)\u001b[0m\n\u001b[1;32m   4113\u001b[0m \u001b[0;34m\u001b[0m\u001b[0m\n\u001b[1;32m   4114\u001b[0m             \u001b[0;32mif\u001b[0m \u001b[0;32mnot\u001b[0m \u001b[0misna\u001b[0m\u001b[0;34m(\u001b[0m\u001b[0mitem\u001b[0m\u001b[0;34m)\u001b[0m\u001b[0;34m:\u001b[0m\u001b[0;34m\u001b[0m\u001b[0m\n\u001b[0;32m-> 4115\u001b[0;31m                 \u001b[0mloc\u001b[0m \u001b[0;34m=\u001b[0m \u001b[0mself\u001b[0m\u001b[0;34m.\u001b[0m\u001b[0mitems\u001b[0m\u001b[0;34m.\u001b[0m\u001b[0mget_loc\u001b[0m\u001b[0;34m(\u001b[0m\u001b[0mitem\u001b[0m\u001b[0;34m)\u001b[0m\u001b[0;34m\u001b[0m\u001b[0m\n\u001b[0m\u001b[1;32m   4116\u001b[0m             \u001b[0;32melse\u001b[0m\u001b[0;34m:\u001b[0m\u001b[0;34m\u001b[0m\u001b[0m\n\u001b[1;32m   4117\u001b[0m                 \u001b[0mindexer\u001b[0m \u001b[0;34m=\u001b[0m \u001b[0mnp\u001b[0m\u001b[0;34m.\u001b[0m\u001b[0marange\u001b[0m\u001b[0;34m(\u001b[0m\u001b[0mlen\u001b[0m\u001b[0;34m(\u001b[0m\u001b[0mself\u001b[0m\u001b[0;34m.\u001b[0m\u001b[0mitems\u001b[0m\u001b[0;34m)\u001b[0m\u001b[0;34m)\u001b[0m\u001b[0;34m[\u001b[0m\u001b[0misna\u001b[0m\u001b[0;34m(\u001b[0m\u001b[0mself\u001b[0m\u001b[0;34m.\u001b[0m\u001b[0mitems\u001b[0m\u001b[0;34m)\u001b[0m\u001b[0;34m]\u001b[0m\u001b[0;34m\u001b[0m\u001b[0m\n",
      "\u001b[0;32m~/anaconda3/envs/learn-env/lib/python3.6/site-packages/pandas/core/indexes/base.py\u001b[0m in \u001b[0;36mget_loc\u001b[0;34m(self, key, method, tolerance)\u001b[0m\n\u001b[1;32m   3078\u001b[0m                 \u001b[0;32mreturn\u001b[0m \u001b[0mself\u001b[0m\u001b[0;34m.\u001b[0m\u001b[0m_engine\u001b[0m\u001b[0;34m.\u001b[0m\u001b[0mget_loc\u001b[0m\u001b[0;34m(\u001b[0m\u001b[0mkey\u001b[0m\u001b[0;34m)\u001b[0m\u001b[0;34m\u001b[0m\u001b[0m\n\u001b[1;32m   3079\u001b[0m             \u001b[0;32mexcept\u001b[0m \u001b[0mKeyError\u001b[0m\u001b[0;34m:\u001b[0m\u001b[0;34m\u001b[0m\u001b[0m\n\u001b[0;32m-> 3080\u001b[0;31m                 \u001b[0;32mreturn\u001b[0m \u001b[0mself\u001b[0m\u001b[0;34m.\u001b[0m\u001b[0m_engine\u001b[0m\u001b[0;34m.\u001b[0m\u001b[0mget_loc\u001b[0m\u001b[0;34m(\u001b[0m\u001b[0mself\u001b[0m\u001b[0;34m.\u001b[0m\u001b[0m_maybe_cast_indexer\u001b[0m\u001b[0;34m(\u001b[0m\u001b[0mkey\u001b[0m\u001b[0;34m)\u001b[0m\u001b[0;34m)\u001b[0m\u001b[0;34m\u001b[0m\u001b[0m\n\u001b[0m\u001b[1;32m   3081\u001b[0m \u001b[0;34m\u001b[0m\u001b[0m\n\u001b[1;32m   3082\u001b[0m         \u001b[0mindexer\u001b[0m \u001b[0;34m=\u001b[0m \u001b[0mself\u001b[0m\u001b[0;34m.\u001b[0m\u001b[0mget_indexer\u001b[0m\u001b[0;34m(\u001b[0m\u001b[0;34m[\u001b[0m\u001b[0mkey\u001b[0m\u001b[0;34m]\u001b[0m\u001b[0;34m,\u001b[0m \u001b[0mmethod\u001b[0m\u001b[0;34m=\u001b[0m\u001b[0mmethod\u001b[0m\u001b[0;34m,\u001b[0m \u001b[0mtolerance\u001b[0m\u001b[0;34m=\u001b[0m\u001b[0mtolerance\u001b[0m\u001b[0;34m)\u001b[0m\u001b[0;34m\u001b[0m\u001b[0m\n",
      "\u001b[0;32mpandas/_libs/index.pyx\u001b[0m in \u001b[0;36mpandas._libs.index.IndexEngine.get_loc\u001b[0;34m()\u001b[0m\n",
      "\u001b[0;32mpandas/_libs/index.pyx\u001b[0m in \u001b[0;36mpandas._libs.index.IndexEngine.get_loc\u001b[0;34m()\u001b[0m\n",
      "\u001b[0;32mpandas/_libs/hashtable_class_helper.pxi\u001b[0m in \u001b[0;36mpandas._libs.hashtable.PyObjectHashTable.get_item\u001b[0;34m()\u001b[0m\n",
      "\u001b[0;32mpandas/_libs/hashtable_class_helper.pxi\u001b[0m in \u001b[0;36mpandas._libs.hashtable.PyObjectHashTable.get_item\u001b[0;34m()\u001b[0m\n",
      "\u001b[0;31mKeyError\u001b[0m: 1"
     ]
    }
   ],
   "source": [
    "invoice_count = df.groupby(['CustomerID'], as_index=False)['InvoiceNo'].count()[1]"
   ]
  },
  {
   "cell_type": "code",
   "execution_count": 146,
   "metadata": {
    "scrolled": true
   },
   "outputs": [
    {
     "data": {
      "text/html": [
       "<div>\n",
       "<style scoped>\n",
       "    .dataframe tbody tr th:only-of-type {\n",
       "        vertical-align: middle;\n",
       "    }\n",
       "\n",
       "    .dataframe tbody tr th {\n",
       "        vertical-align: top;\n",
       "    }\n",
       "\n",
       "    .dataframe thead th {\n",
       "        text-align: right;\n",
       "    }\n",
       "</style>\n",
       "<table border=\"1\" class=\"dataframe\">\n",
       "  <thead>\n",
       "    <tr style=\"text-align: right;\">\n",
       "      <th></th>\n",
       "      <th>CustomerID</th>\n",
       "      <th>frequency</th>\n",
       "    </tr>\n",
       "  </thead>\n",
       "  <tbody>\n",
       "    <tr>\n",
       "      <th>0</th>\n",
       "      <td>12346.0</td>\n",
       "      <td>2</td>\n",
       "    </tr>\n",
       "    <tr>\n",
       "      <th>1</th>\n",
       "      <td>12347.0</td>\n",
       "      <td>171</td>\n",
       "    </tr>\n",
       "  </tbody>\n",
       "</table>\n",
       "</div>"
      ],
      "text/plain": [
       "   CustomerID  frequency\n",
       "0     12346.0          2\n",
       "1     12347.0        171"
      ]
     },
     "execution_count": 146,
     "metadata": {},
     "output_type": "execute_result"
    }
   ],
   "source": [
    "invoice_count.head(2)"
   ]
  },
  {
   "cell_type": "code",
   "execution_count": 147,
   "metadata": {},
   "outputs": [],
   "source": [
    "invoice_count.rename(columns={'Frequency': 'frequency'}, inplace=True)"
   ]
  },
  {
   "cell_type": "code",
   "execution_count": 148,
   "metadata": {},
   "outputs": [
    {
     "data": {
      "text/html": [
       "<div>\n",
       "<style scoped>\n",
       "    .dataframe tbody tr th:only-of-type {\n",
       "        vertical-align: middle;\n",
       "    }\n",
       "\n",
       "    .dataframe tbody tr th {\n",
       "        vertical-align: top;\n",
       "    }\n",
       "\n",
       "    .dataframe thead th {\n",
       "        text-align: right;\n",
       "    }\n",
       "</style>\n",
       "<table border=\"1\" class=\"dataframe\">\n",
       "  <thead>\n",
       "    <tr style=\"text-align: right;\">\n",
       "      <th></th>\n",
       "      <th>CustomerID</th>\n",
       "      <th>frequency</th>\n",
       "    </tr>\n",
       "  </thead>\n",
       "  <tbody>\n",
       "    <tr>\n",
       "      <th>0</th>\n",
       "      <td>12346.0</td>\n",
       "      <td>2</td>\n",
       "    </tr>\n",
       "    <tr>\n",
       "      <th>1</th>\n",
       "      <td>12347.0</td>\n",
       "      <td>171</td>\n",
       "    </tr>\n",
       "    <tr>\n",
       "      <th>2</th>\n",
       "      <td>12348.0</td>\n",
       "      <td>31</td>\n",
       "    </tr>\n",
       "    <tr>\n",
       "      <th>3</th>\n",
       "      <td>12349.0</td>\n",
       "      <td>73</td>\n",
       "    </tr>\n",
       "    <tr>\n",
       "      <th>4</th>\n",
       "      <td>12350.0</td>\n",
       "      <td>17</td>\n",
       "    </tr>\n",
       "  </tbody>\n",
       "</table>\n",
       "</div>"
      ],
      "text/plain": [
       "   CustomerID  frequency\n",
       "0     12346.0          2\n",
       "1     12347.0        171\n",
       "2     12348.0         31\n",
       "3     12349.0         73\n",
       "4     12350.0         17"
      ]
     },
     "execution_count": 148,
     "metadata": {},
     "output_type": "execute_result"
    }
   ],
   "source": [
    "invoice_count.head()"
   ]
  },
  {
   "cell_type": "code",
   "execution_count": 149,
   "metadata": {},
   "outputs": [],
   "source": [
    "customer_total_revenue = df.groupby(['CustomerID'], as_index=False)['TotalRevenue'].sum()"
   ]
  },
  {
   "cell_type": "code",
   "execution_count": 150,
   "metadata": {},
   "outputs": [],
   "source": [
    "customer_total_revenue.rename(columns={'TotalRevenue': 'monetary'}, inplace=True)"
   ]
  },
  {
   "cell_type": "code",
   "execution_count": 151,
   "metadata": {},
   "outputs": [
    {
     "data": {
      "text/html": [
       "<div>\n",
       "<style scoped>\n",
       "    .dataframe tbody tr th:only-of-type {\n",
       "        vertical-align: middle;\n",
       "    }\n",
       "\n",
       "    .dataframe tbody tr th {\n",
       "        vertical-align: top;\n",
       "    }\n",
       "\n",
       "    .dataframe thead th {\n",
       "        text-align: right;\n",
       "    }\n",
       "</style>\n",
       "<table border=\"1\" class=\"dataframe\">\n",
       "  <thead>\n",
       "    <tr style=\"text-align: right;\">\n",
       "      <th></th>\n",
       "      <th>CustomerID</th>\n",
       "      <th>monetary</th>\n",
       "    </tr>\n",
       "  </thead>\n",
       "  <tbody>\n",
       "    <tr>\n",
       "      <th>0</th>\n",
       "      <td>12346.0</td>\n",
       "      <td>0.00</td>\n",
       "    </tr>\n",
       "    <tr>\n",
       "      <th>1</th>\n",
       "      <td>12347.0</td>\n",
       "      <td>4085.18</td>\n",
       "    </tr>\n",
       "    <tr>\n",
       "      <th>2</th>\n",
       "      <td>12348.0</td>\n",
       "      <td>1797.24</td>\n",
       "    </tr>\n",
       "    <tr>\n",
       "      <th>3</th>\n",
       "      <td>12349.0</td>\n",
       "      <td>1757.55</td>\n",
       "    </tr>\n",
       "    <tr>\n",
       "      <th>4</th>\n",
       "      <td>12350.0</td>\n",
       "      <td>334.40</td>\n",
       "    </tr>\n",
       "  </tbody>\n",
       "</table>\n",
       "</div>"
      ],
      "text/plain": [
       "   CustomerID  monetary\n",
       "0     12346.0      0.00\n",
       "1     12347.0   4085.18\n",
       "2     12348.0   1797.24\n",
       "3     12349.0   1757.55\n",
       "4     12350.0    334.40"
      ]
     },
     "execution_count": 151,
     "metadata": {},
     "output_type": "execute_result"
    }
   ],
   "source": [
    "customer_total_revenue.head()"
   ]
  },
  {
   "cell_type": "code",
   "execution_count": 152,
   "metadata": {},
   "outputs": [],
   "source": [
    "customer_total_revenue.monetary = round(customer_total_revenue.monetary, 2)"
   ]
  },
  {
   "cell_type": "code",
   "execution_count": 153,
   "metadata": {},
   "outputs": [],
   "source": [
    "customer_total_revenue_invoice_count = customer_total_revenue.merge(invoice_count, on='CustomerID', sort=True)"
   ]
  },
  {
   "cell_type": "code",
   "execution_count": 154,
   "metadata": {},
   "outputs": [
    {
     "data": {
      "text/html": [
       "<div>\n",
       "<style scoped>\n",
       "    .dataframe tbody tr th:only-of-type {\n",
       "        vertical-align: middle;\n",
       "    }\n",
       "\n",
       "    .dataframe tbody tr th {\n",
       "        vertical-align: top;\n",
       "    }\n",
       "\n",
       "    .dataframe thead th {\n",
       "        text-align: right;\n",
       "    }\n",
       "</style>\n",
       "<table border=\"1\" class=\"dataframe\">\n",
       "  <thead>\n",
       "    <tr style=\"text-align: right;\">\n",
       "      <th></th>\n",
       "      <th>CustomerID</th>\n",
       "      <th>monetary</th>\n",
       "      <th>frequency</th>\n",
       "    </tr>\n",
       "  </thead>\n",
       "  <tbody>\n",
       "    <tr>\n",
       "      <th>0</th>\n",
       "      <td>12346.0</td>\n",
       "      <td>0.00</td>\n",
       "      <td>2</td>\n",
       "    </tr>\n",
       "    <tr>\n",
       "      <th>1</th>\n",
       "      <td>12347.0</td>\n",
       "      <td>4085.18</td>\n",
       "      <td>171</td>\n",
       "    </tr>\n",
       "    <tr>\n",
       "      <th>2</th>\n",
       "      <td>12348.0</td>\n",
       "      <td>1797.24</td>\n",
       "      <td>31</td>\n",
       "    </tr>\n",
       "    <tr>\n",
       "      <th>3</th>\n",
       "      <td>12349.0</td>\n",
       "      <td>1757.55</td>\n",
       "      <td>73</td>\n",
       "    </tr>\n",
       "    <tr>\n",
       "      <th>4</th>\n",
       "      <td>12350.0</td>\n",
       "      <td>334.40</td>\n",
       "      <td>17</td>\n",
       "    </tr>\n",
       "  </tbody>\n",
       "</table>\n",
       "</div>"
      ],
      "text/plain": [
       "   CustomerID  monetary  frequency\n",
       "0     12346.0      0.00          2\n",
       "1     12347.0   4085.18        171\n",
       "2     12348.0   1797.24         31\n",
       "3     12349.0   1757.55         73\n",
       "4     12350.0    334.40         17"
      ]
     },
     "execution_count": 154,
     "metadata": {},
     "output_type": "execute_result"
    }
   ],
   "source": [
    "customer_total_revenue_invoice_count.head()"
   ]
  },
  {
   "cell_type": "code",
   "execution_count": 155,
   "metadata": {},
   "outputs": [],
   "source": [
    "#  customer_total_revenue_invoice_count = customer_total_revenue_invoice_count[customer_total_revenue_invoice_count['TotalRevenue'] > 0]"
   ]
  },
  {
   "cell_type": "code",
   "execution_count": 156,
   "metadata": {},
   "outputs": [
    {
     "data": {
      "image/png": "[encoded data removed]",
      "text/plain": [
       "<Figure size 720x720 with 1 Axes>"
      ]
     },
     "metadata": {
      "needs_background": "light"
     },
     "output_type": "display_data"
    }
   ],
   "source": [
    "plt.figure(figsize=(10,10))\n",
    "plt.scatter(customer_total_revenue_invoice_count.frequency, customer_total_revenue_invoice_count.monetary, s=15, alpha=0.5)\n",
    "plt.title('Customer Invoice Count (Frequency) vs Revenue')\n",
    "plt.xlabel('Frequency')\n",
    "plt.ylabel('Revenue')\n",
    "plt.show()\n"
   ]
  },
  {
   "cell_type": "markdown",
   "metadata": {},
   "source": [
    "Creating a column in the original dataframe that marks how long ago from the last possibe date an item was puchased"
   ]
  },
  {
   "cell_type": "code",
   "execution_count": 157,
   "metadata": {},
   "outputs": [],
   "source": [
    "df['InvoiceDate']= pd.to_datetime(df['InvoiceDate'])"
   ]
  },
  {
   "cell_type": "code",
   "execution_count": 158,
   "metadata": {},
   "outputs": [],
   "source": [
    "df['DaysSincePurchase'] = df['InvoiceDate'].max() - df['InvoiceDate']"
   ]
  },
  {
   "cell_type": "code",
   "execution_count": 159,
   "metadata": {},
   "outputs": [
    {
     "data": {
      "text/html": [
       "<div>\n",
       "<style scoped>\n",
       "    .dataframe tbody tr th:only-of-type {\n",
       "        vertical-align: middle;\n",
       "    }\n",
       "\n",
       "    .dataframe tbody tr th {\n",
       "        vertical-align: top;\n",
       "    }\n",
       "\n",
       "    .dataframe thead th {\n",
       "        text-align: right;\n",
       "    }\n",
       "</style>\n",
       "<table border=\"1\" class=\"dataframe\">\n",
       "  <thead>\n",
       "    <tr style=\"text-align: right;\">\n",
       "      <th></th>\n",
       "      <th>InvoiceNo</th>\n",
       "      <th>StockCode</th>\n",
       "      <th>Description</th>\n",
       "      <th>Quantity</th>\n",
       "      <th>InvoiceDate</th>\n",
       "      <th>UnitPrice</th>\n",
       "      <th>CustomerID</th>\n",
       "      <th>Country</th>\n",
       "      <th>TotalRevenue</th>\n",
       "      <th>DaysSincePurchase</th>\n",
       "    </tr>\n",
       "  </thead>\n",
       "  <tbody>\n",
       "    <tr>\n",
       "      <th>0</th>\n",
       "      <td>536365</td>\n",
       "      <td>85123A</td>\n",
       "      <td>WHITE HANGING HEART T-LIGHT HOLDER</td>\n",
       "      <td>6</td>\n",
       "      <td>2010-12-01 08:26:00</td>\n",
       "      <td>2.55</td>\n",
       "      <td>17850.0</td>\n",
       "      <td>United Kingdom</td>\n",
       "      <td>15.30</td>\n",
       "      <td>365 days 11:28:00</td>\n",
       "    </tr>\n",
       "    <tr>\n",
       "      <th>1</th>\n",
       "      <td>536365</td>\n",
       "      <td>71053</td>\n",
       "      <td>WHITE METAL LANTERN</td>\n",
       "      <td>6</td>\n",
       "      <td>2010-12-01 08:26:00</td>\n",
       "      <td>3.39</td>\n",
       "      <td>17850.0</td>\n",
       "      <td>United Kingdom</td>\n",
       "      <td>20.34</td>\n",
       "      <td>365 days 11:28:00</td>\n",
       "    </tr>\n",
       "    <tr>\n",
       "      <th>2</th>\n",
       "      <td>536365</td>\n",
       "      <td>84406B</td>\n",
       "      <td>CREAM CUPID HEARTS COAT HANGER</td>\n",
       "      <td>8</td>\n",
       "      <td>2010-12-01 08:26:00</td>\n",
       "      <td>2.75</td>\n",
       "      <td>17850.0</td>\n",
       "      <td>United Kingdom</td>\n",
       "      <td>22.00</td>\n",
       "      <td>365 days 11:28:00</td>\n",
       "    </tr>\n",
       "    <tr>\n",
       "      <th>3</th>\n",
       "      <td>536365</td>\n",
       "      <td>84029G</td>\n",
       "      <td>KNITTED UNION FLAG HOT WATER BOTTLE</td>\n",
       "      <td>6</td>\n",
       "      <td>2010-12-01 08:26:00</td>\n",
       "      <td>3.39</td>\n",
       "      <td>17850.0</td>\n",
       "      <td>United Kingdom</td>\n",
       "      <td>20.34</td>\n",
       "      <td>365 days 11:28:00</td>\n",
       "    </tr>\n",
       "    <tr>\n",
       "      <th>4</th>\n",
       "      <td>536365</td>\n",
       "      <td>84029E</td>\n",
       "      <td>RED WOOLLY HOTTIE WHITE HEART.</td>\n",
       "      <td>6</td>\n",
       "      <td>2010-12-01 08:26:00</td>\n",
       "      <td>3.39</td>\n",
       "      <td>17850.0</td>\n",
       "      <td>United Kingdom</td>\n",
       "      <td>20.34</td>\n",
       "      <td>365 days 11:28:00</td>\n",
       "    </tr>\n",
       "  </tbody>\n",
       "</table>\n",
       "</div>"
      ],
      "text/plain": [
       "  InvoiceNo StockCode                          Description  Quantity  \\\n",
       "0    536365    85123A   WHITE HANGING HEART T-LIGHT HOLDER         6   \n",
       "1    536365     71053                  WHITE METAL LANTERN         6   \n",
       "2    536365    84406B       CREAM CUPID HEARTS COAT HANGER         8   \n",
       "3    536365    84029G  KNITTED UNION FLAG HOT WATER BOTTLE         6   \n",
       "4    536365    84029E       RED WOOLLY HOTTIE WHITE HEART.         6   \n",
       "\n",
       "          InvoiceDate  UnitPrice  CustomerID         Country  TotalRevenue  \\\n",
       "0 2010-12-01 08:26:00       2.55     17850.0  United Kingdom         15.30   \n",
       "1 2010-12-01 08:26:00       3.39     17850.0  United Kingdom         20.34   \n",
       "2 2010-12-01 08:26:00       2.75     17850.0  United Kingdom         22.00   \n",
       "3 2010-12-01 08:26:00       3.39     17850.0  United Kingdom         20.34   \n",
       "4 2010-12-01 08:26:00       3.39     17850.0  United Kingdom         20.34   \n",
       "\n",
       "  DaysSincePurchase  \n",
       "0 365 days 11:28:00  \n",
       "1 365 days 11:28:00  \n",
       "2 365 days 11:28:00  \n",
       "3 365 days 11:28:00  \n",
       "4 365 days 11:28:00  "
      ]
     },
     "execution_count": 159,
     "metadata": {},
     "output_type": "execute_result"
    }
   ],
   "source": [
    "df.head()"
   ]
  },
  {
   "cell_type": "markdown",
   "metadata": {},
   "source": [
    "Identifying the most recent purchase and setting that in a new dataframe, then merging that into the rest of the data"
   ]
  },
  {
   "cell_type": "code",
   "execution_count": 160,
   "metadata": {},
   "outputs": [],
   "source": [
    "customer_since_purchase = df.groupby(['CustomerID'], as_index=False)['DaysSincePurchase'].min()"
   ]
  },
  {
   "cell_type": "code",
   "execution_count": 161,
   "metadata": {},
   "outputs": [],
   "source": [
    "customer_total_revenue_invoice_count_since_purchase = customer_total_revenue_invoice_count.merge(customer_since_purchase, on='CustomerID', sort=True)"
   ]
  },
  {
   "cell_type": "code",
   "execution_count": 162,
   "metadata": {},
   "outputs": [],
   "source": [
    "customer_total_revenue_invoice_count_since_purchase.rename(columns={'DaysSincePurchase': 'recency'}, inplace=True)\n"
   ]
  },
  {
   "cell_type": "markdown",
   "metadata": {},
   "source": [
    "DaysSinceLastPurchase is timedelta64, in order to make it work for creating plots, it has to be made into an integer"
   ]
  },
  {
   "cell_type": "code",
   "execution_count": null,
   "metadata": {},
   "outputs": [],
   "source": []
  },
  {
   "cell_type": "code",
   "execution_count": 166,
   "metadata": {},
   "outputs": [],
   "source": []
  },
  {
   "cell_type": "code",
   "execution_count": 168,
   "metadata": {},
   "outputs": [
    {
     "data": {
      "text/html": [
       "<div>\n",
       "<style scoped>\n",
       "    .dataframe tbody tr th:only-of-type {\n",
       "        vertical-align: middle;\n",
       "    }\n",
       "\n",
       "    .dataframe tbody tr th {\n",
       "        vertical-align: top;\n",
       "    }\n",
       "\n",
       "    .dataframe thead th {\n",
       "        text-align: right;\n",
       "    }\n",
       "</style>\n",
       "<table border=\"1\" class=\"dataframe\">\n",
       "  <thead>\n",
       "    <tr style=\"text-align: right;\">\n",
       "      <th></th>\n",
       "      <th>CustomerID</th>\n",
       "      <th>monetary</th>\n",
       "      <th>frequency</th>\n",
       "      <th>recency</th>\n",
       "    </tr>\n",
       "  </thead>\n",
       "  <tbody>\n",
       "    <tr>\n",
       "      <th>0</th>\n",
       "      <td>12346.0</td>\n",
       "      <td>0.00</td>\n",
       "      <td>2</td>\n",
       "      <td>317</td>\n",
       "    </tr>\n",
       "    <tr>\n",
       "      <th>1</th>\n",
       "      <td>12347.0</td>\n",
       "      <td>4085.18</td>\n",
       "      <td>171</td>\n",
       "      <td>31</td>\n",
       "    </tr>\n",
       "  </tbody>\n",
       "</table>\n",
       "</div>"
      ],
      "text/plain": [
       "   CustomerID  monetary  frequency  recency\n",
       "0     12346.0      0.00          2      317\n",
       "1     12347.0   4085.18        171       31"
      ]
     },
     "execution_count": 168,
     "metadata": {},
     "output_type": "execute_result"
    }
   ],
   "source": [
    "RecentPurchase = customer_since_purchase['DaysSincePurchase']\n",
    "\n",
    "RecentPurchaseDays = [None] * len(RecentPurchase)\n",
    "\n",
    "for i in range(len(RecentPurchase)):\n",
    "    RecentPurchaseDays[i] = RecentPurchase[i].days\n",
    "\n",
    "customer_total_revenue_invoice_count_since_purchase['recency'] = RecentPurchaseDays\n",
    "\n",
    "# customer_total_revenue_invoice_count_since_purchase.drop('DaysSincePurchase', axis=1, inplace = True)\n",
    "\n",
    "customer_total_revenue_invoice_count_since_purchase.head(2)"
   ]
  },
  {
   "cell_type": "code",
   "execution_count": 134,
   "metadata": {},
   "outputs": [
    {
     "data": {
      "text/html": [
       "<div>\n",
       "<style scoped>\n",
       "    .dataframe tbody tr th:only-of-type {\n",
       "        vertical-align: middle;\n",
       "    }\n",
       "\n",
       "    .dataframe tbody tr th {\n",
       "        vertical-align: top;\n",
       "    }\n",
       "\n",
       "    .dataframe thead th {\n",
       "        text-align: right;\n",
       "    }\n",
       "</style>\n",
       "<table border=\"1\" class=\"dataframe\">\n",
       "  <thead>\n",
       "    <tr style=\"text-align: right;\">\n",
       "      <th></th>\n",
       "      <th>monetary</th>\n",
       "      <th>frequency</th>\n",
       "      <th>recency</th>\n",
       "    </tr>\n",
       "    <tr>\n",
       "      <th>CustomerID</th>\n",
       "      <th></th>\n",
       "      <th></th>\n",
       "      <th></th>\n",
       "    </tr>\n",
       "  </thead>\n",
       "  <tbody>\n",
       "    <tr>\n",
       "      <th>12346.0</th>\n",
       "      <td>0.10</td>\n",
       "      <td>2</td>\n",
       "      <td>317 days 09:37:00</td>\n",
       "    </tr>\n",
       "    <tr>\n",
       "      <th>12347.0</th>\n",
       "      <td>4085.18</td>\n",
       "      <td>171</td>\n",
       "      <td>31 days 07:29:00</td>\n",
       "    </tr>\n",
       "    <tr>\n",
       "      <th>12348.0</th>\n",
       "      <td>1797.24</td>\n",
       "      <td>31</td>\n",
       "      <td>67 days 06:41:00</td>\n",
       "    </tr>\n",
       "    <tr>\n",
       "      <th>12349.0</th>\n",
       "      <td>1757.55</td>\n",
       "      <td>73</td>\n",
       "      <td>10 days 10:03:00</td>\n",
       "    </tr>\n",
       "    <tr>\n",
       "      <th>12350.0</th>\n",
       "      <td>334.40</td>\n",
       "      <td>17</td>\n",
       "      <td>302 days 03:53:00</td>\n",
       "    </tr>\n",
       "    <tr>\n",
       "      <th>12352.0</th>\n",
       "      <td>1545.41</td>\n",
       "      <td>95</td>\n",
       "      <td>28 days 05:17:00</td>\n",
       "    </tr>\n",
       "    <tr>\n",
       "      <th>12353.0</th>\n",
       "      <td>89.00</td>\n",
       "      <td>4</td>\n",
       "      <td>196 days 02:07:00</td>\n",
       "    </tr>\n",
       "    <tr>\n",
       "      <th>12354.0</th>\n",
       "      <td>1079.40</td>\n",
       "      <td>58</td>\n",
       "      <td>224 days 06:43:00</td>\n",
       "    </tr>\n",
       "    <tr>\n",
       "      <th>12355.0</th>\n",
       "      <td>459.40</td>\n",
       "      <td>13</td>\n",
       "      <td>206 days 06:05:00</td>\n",
       "    </tr>\n",
       "    <tr>\n",
       "      <th>12356.0</th>\n",
       "      <td>2811.43</td>\n",
       "      <td>59</td>\n",
       "      <td>14 days 11:14:00</td>\n",
       "    </tr>\n",
       "    <tr>\n",
       "      <th>12357.0</th>\n",
       "      <td>6207.67</td>\n",
       "      <td>131</td>\n",
       "      <td>25 days 03:47:00</td>\n",
       "    </tr>\n",
       "    <tr>\n",
       "      <th>12358.0</th>\n",
       "      <td>484.86</td>\n",
       "      <td>12</td>\n",
       "      <td>142 days 09:50:00</td>\n",
       "    </tr>\n",
       "    <tr>\n",
       "      <th>12359.0</th>\n",
       "      <td>6336.78</td>\n",
       "      <td>250</td>\n",
       "      <td>49 days 07:07:00</td>\n",
       "    </tr>\n",
       "    <tr>\n",
       "      <th>12360.0</th>\n",
       "      <td>2662.06</td>\n",
       "      <td>129</td>\n",
       "      <td>44 days 04:32:00</td>\n",
       "    </tr>\n",
       "    <tr>\n",
       "      <th>12361.0</th>\n",
       "      <td>189.90</td>\n",
       "      <td>10</td>\n",
       "      <td>279 days 06:03:00</td>\n",
       "    </tr>\n",
       "    <tr>\n",
       "      <th>12362.0</th>\n",
       "      <td>4625.54</td>\n",
       "      <td>244</td>\n",
       "      <td>3 days 04:59:00</td>\n",
       "    </tr>\n",
       "    <tr>\n",
       "      <th>12363.0</th>\n",
       "      <td>552.00</td>\n",
       "      <td>23</td>\n",
       "      <td>101 days 09:36:00</td>\n",
       "    </tr>\n",
       "    <tr>\n",
       "      <th>12364.0</th>\n",
       "      <td>1002.78</td>\n",
       "      <td>58</td>\n",
       "      <td>32 days 04:11:00</td>\n",
       "    </tr>\n",
       "    <tr>\n",
       "      <th>12365.0</th>\n",
       "      <td>320.69</td>\n",
       "      <td>23</td>\n",
       "      <td>283 days 05:50:00</td>\n",
       "    </tr>\n",
       "    <tr>\n",
       "      <th>12370.0</th>\n",
       "      <td>3545.69</td>\n",
       "      <td>167</td>\n",
       "      <td>43 days 05:03:00</td>\n",
       "    </tr>\n",
       "    <tr>\n",
       "      <th>12371.0</th>\n",
       "      <td>1887.96</td>\n",
       "      <td>63</td>\n",
       "      <td>36 days 09:38:00</td>\n",
       "    </tr>\n",
       "    <tr>\n",
       "      <th>12372.0</th>\n",
       "      <td>1298.04</td>\n",
       "      <td>52</td>\n",
       "      <td>63 days 07:42:00</td>\n",
       "    </tr>\n",
       "    <tr>\n",
       "      <th>12373.0</th>\n",
       "      <td>364.60</td>\n",
       "      <td>14</td>\n",
       "      <td>303 days 06:44:00</td>\n",
       "    </tr>\n",
       "    <tr>\n",
       "      <th>12374.0</th>\n",
       "      <td>742.93</td>\n",
       "      <td>33</td>\n",
       "      <td>17 days 04:17:00</td>\n",
       "    </tr>\n",
       "    <tr>\n",
       "      <th>12375.0</th>\n",
       "      <td>457.50</td>\n",
       "      <td>17</td>\n",
       "      <td>2 days 09:18:00</td>\n",
       "    </tr>\n",
       "    <tr>\n",
       "      <th>12377.0</th>\n",
       "      <td>1628.12</td>\n",
       "      <td>77</td>\n",
       "      <td>307 days 04:09:00</td>\n",
       "    </tr>\n",
       "    <tr>\n",
       "      <th>12378.0</th>\n",
       "      <td>4008.62</td>\n",
       "      <td>219</td>\n",
       "      <td>121 days 09:20:00</td>\n",
       "    </tr>\n",
       "    <tr>\n",
       "      <th>12379.0</th>\n",
       "      <td>850.29</td>\n",
       "      <td>41</td>\n",
       "      <td>73 days 09:45:00</td>\n",
       "    </tr>\n",
       "    <tr>\n",
       "      <th>12380.0</th>\n",
       "      <td>2720.56</td>\n",
       "      <td>105</td>\n",
       "      <td>13 days 08:27:00</td>\n",
       "    </tr>\n",
       "    <tr>\n",
       "      <th>12381.0</th>\n",
       "      <td>1656.95</td>\n",
       "      <td>84</td>\n",
       "      <td>25 days 06:18:00</td>\n",
       "    </tr>\n",
       "    <tr>\n",
       "      <th>...</th>\n",
       "      <td>...</td>\n",
       "      <td>...</td>\n",
       "      <td>...</td>\n",
       "    </tr>\n",
       "    <tr>\n",
       "      <th>18245.0</th>\n",
       "      <td>1613.31</td>\n",
       "      <td>122</td>\n",
       "      <td>141 days 05:25:00</td>\n",
       "    </tr>\n",
       "    <tr>\n",
       "      <th>18246.0</th>\n",
       "      <td>596.10</td>\n",
       "      <td>4</td>\n",
       "      <td>15 days 08:05:00</td>\n",
       "    </tr>\n",
       "    <tr>\n",
       "      <th>18248.0</th>\n",
       "      <td>783.02</td>\n",
       "      <td>49</td>\n",
       "      <td>105 days 13:40:00</td>\n",
       "    </tr>\n",
       "    <tr>\n",
       "      <th>18249.0</th>\n",
       "      <td>95.34</td>\n",
       "      <td>8</td>\n",
       "      <td>9 days 04:47:00</td>\n",
       "    </tr>\n",
       "    <tr>\n",
       "      <th>18250.0</th>\n",
       "      <td>342.92</td>\n",
       "      <td>22</td>\n",
       "      <td>293 days 05:55:00</td>\n",
       "    </tr>\n",
       "    <tr>\n",
       "      <th>18251.0</th>\n",
       "      <td>4314.72</td>\n",
       "      <td>16</td>\n",
       "      <td>79 days 04:51:00</td>\n",
       "    </tr>\n",
       "    <tr>\n",
       "      <th>18252.0</th>\n",
       "      <td>526.67</td>\n",
       "      <td>98</td>\n",
       "      <td>42 days 07:11:00</td>\n",
       "    </tr>\n",
       "    <tr>\n",
       "      <th>18255.0</th>\n",
       "      <td>103.30</td>\n",
       "      <td>6</td>\n",
       "      <td>81 days 06:38:00</td>\n",
       "    </tr>\n",
       "    <tr>\n",
       "      <th>18256.0</th>\n",
       "      <td>0.10</td>\n",
       "      <td>4</td>\n",
       "      <td>346 days 11:27:00</td>\n",
       "    </tr>\n",
       "    <tr>\n",
       "      <th>18257.0</th>\n",
       "      <td>2265.38</td>\n",
       "      <td>123</td>\n",
       "      <td>31 days 05:06:00</td>\n",
       "    </tr>\n",
       "    <tr>\n",
       "      <th>18259.0</th>\n",
       "      <td>2338.60</td>\n",
       "      <td>42</td>\n",
       "      <td>16 days 07:20:00</td>\n",
       "    </tr>\n",
       "    <tr>\n",
       "      <th>18260.0</th>\n",
       "      <td>2595.00</td>\n",
       "      <td>140</td>\n",
       "      <td>164 days 07:17:00</td>\n",
       "    </tr>\n",
       "    <tr>\n",
       "      <th>18261.0</th>\n",
       "      <td>324.24</td>\n",
       "      <td>21</td>\n",
       "      <td>35 days 04:18:00</td>\n",
       "    </tr>\n",
       "    <tr>\n",
       "      <th>18262.0</th>\n",
       "      <td>149.48</td>\n",
       "      <td>13</td>\n",
       "      <td>132 days 03:50:00</td>\n",
       "    </tr>\n",
       "    <tr>\n",
       "      <th>18263.0</th>\n",
       "      <td>1211.08</td>\n",
       "      <td>62</td>\n",
       "      <td>15 days 03:35:00</td>\n",
       "    </tr>\n",
       "    <tr>\n",
       "      <th>18265.0</th>\n",
       "      <td>801.51</td>\n",
       "      <td>46</td>\n",
       "      <td>64 days 05:44:00</td>\n",
       "    </tr>\n",
       "    <tr>\n",
       "      <th>18268.0</th>\n",
       "      <td>0.10</td>\n",
       "      <td>2</td>\n",
       "      <td>126 days 00:41:00</td>\n",
       "    </tr>\n",
       "    <tr>\n",
       "      <th>18269.0</th>\n",
       "      <td>138.90</td>\n",
       "      <td>8</td>\n",
       "      <td>350 days 04:15:00</td>\n",
       "    </tr>\n",
       "    <tr>\n",
       "      <th>18270.0</th>\n",
       "      <td>238.95</td>\n",
       "      <td>13</td>\n",
       "      <td>30 days 05:57:00</td>\n",
       "    </tr>\n",
       "    <tr>\n",
       "      <th>18272.0</th>\n",
       "      <td>2696.90</td>\n",
       "      <td>147</td>\n",
       "      <td>37 days 08:02:00</td>\n",
       "    </tr>\n",
       "    <tr>\n",
       "      <th>18273.0</th>\n",
       "      <td>153.00</td>\n",
       "      <td>2</td>\n",
       "      <td>87 days 08:27:00</td>\n",
       "    </tr>\n",
       "    <tr>\n",
       "      <th>18274.0</th>\n",
       "      <td>0.10</td>\n",
       "      <td>22</td>\n",
       "      <td>9 days 09:36:00</td>\n",
       "    </tr>\n",
       "    <tr>\n",
       "      <th>18276.0</th>\n",
       "      <td>323.36</td>\n",
       "      <td>16</td>\n",
       "      <td>13 days 02:53:00</td>\n",
       "    </tr>\n",
       "    <tr>\n",
       "      <th>18277.0</th>\n",
       "      <td>97.63</td>\n",
       "      <td>9</td>\n",
       "      <td>50 days 04:32:00</td>\n",
       "    </tr>\n",
       "    <tr>\n",
       "      <th>18278.0</th>\n",
       "      <td>173.90</td>\n",
       "      <td>9</td>\n",
       "      <td>65 days 07:56:00</td>\n",
       "    </tr>\n",
       "    <tr>\n",
       "      <th>18280.0</th>\n",
       "      <td>180.60</td>\n",
       "      <td>10</td>\n",
       "      <td>269 days 10:02:00</td>\n",
       "    </tr>\n",
       "    <tr>\n",
       "      <th>18281.0</th>\n",
       "      <td>80.82</td>\n",
       "      <td>7</td>\n",
       "      <td>172 days 09:01:00</td>\n",
       "    </tr>\n",
       "    <tr>\n",
       "      <th>18282.0</th>\n",
       "      <td>98.76</td>\n",
       "      <td>8</td>\n",
       "      <td>114 days 04:44:00</td>\n",
       "    </tr>\n",
       "    <tr>\n",
       "      <th>18283.0</th>\n",
       "      <td>1886.88</td>\n",
       "      <td>706</td>\n",
       "      <td>1 days 06:55:00</td>\n",
       "    </tr>\n",
       "    <tr>\n",
       "      <th>18287.0</th>\n",
       "      <td>1837.28</td>\n",
       "      <td>70</td>\n",
       "      <td>34 days 10:25:00</td>\n",
       "    </tr>\n",
       "  </tbody>\n",
       "</table>\n",
       "<p>4334 rows × 3 columns</p>\n",
       "</div>"
      ],
      "text/plain": [
       "            monetary  frequency           recency\n",
       "CustomerID                                       \n",
       "12346.0         0.10          2 317 days 09:37:00\n",
       "12347.0      4085.18        171  31 days 07:29:00\n",
       "12348.0      1797.24         31  67 days 06:41:00\n",
       "12349.0      1757.55         73  10 days 10:03:00\n",
       "12350.0       334.40         17 302 days 03:53:00\n",
       "12352.0      1545.41         95  28 days 05:17:00\n",
       "12353.0        89.00          4 196 days 02:07:00\n",
       "12354.0      1079.40         58 224 days 06:43:00\n",
       "12355.0       459.40         13 206 days 06:05:00\n",
       "12356.0      2811.43         59  14 days 11:14:00\n",
       "12357.0      6207.67        131  25 days 03:47:00\n",
       "12358.0       484.86         12 142 days 09:50:00\n",
       "12359.0      6336.78        250  49 days 07:07:00\n",
       "12360.0      2662.06        129  44 days 04:32:00\n",
       "12361.0       189.90         10 279 days 06:03:00\n",
       "12362.0      4625.54        244   3 days 04:59:00\n",
       "12363.0       552.00         23 101 days 09:36:00\n",
       "12364.0      1002.78         58  32 days 04:11:00\n",
       "12365.0       320.69         23 283 days 05:50:00\n",
       "12370.0      3545.69        167  43 days 05:03:00\n",
       "12371.0      1887.96         63  36 days 09:38:00\n",
       "12372.0      1298.04         52  63 days 07:42:00\n",
       "12373.0       364.60         14 303 days 06:44:00\n",
       "12374.0       742.93         33  17 days 04:17:00\n",
       "12375.0       457.50         17   2 days 09:18:00\n",
       "12377.0      1628.12         77 307 days 04:09:00\n",
       "12378.0      4008.62        219 121 days 09:20:00\n",
       "12379.0       850.29         41  73 days 09:45:00\n",
       "12380.0      2720.56        105  13 days 08:27:00\n",
       "12381.0      1656.95         84  25 days 06:18:00\n",
       "...              ...        ...               ...\n",
       "18245.0      1613.31        122 141 days 05:25:00\n",
       "18246.0       596.10          4  15 days 08:05:00\n",
       "18248.0       783.02         49 105 days 13:40:00\n",
       "18249.0        95.34          8   9 days 04:47:00\n",
       "18250.0       342.92         22 293 days 05:55:00\n",
       "18251.0      4314.72         16  79 days 04:51:00\n",
       "18252.0       526.67         98  42 days 07:11:00\n",
       "18255.0       103.30          6  81 days 06:38:00\n",
       "18256.0         0.10          4 346 days 11:27:00\n",
       "18257.0      2265.38        123  31 days 05:06:00\n",
       "18259.0      2338.60         42  16 days 07:20:00\n",
       "18260.0      2595.00        140 164 days 07:17:00\n",
       "18261.0       324.24         21  35 days 04:18:00\n",
       "18262.0       149.48         13 132 days 03:50:00\n",
       "18263.0      1211.08         62  15 days 03:35:00\n",
       "18265.0       801.51         46  64 days 05:44:00\n",
       "18268.0         0.10          2 126 days 00:41:00\n",
       "18269.0       138.90          8 350 days 04:15:00\n",
       "18270.0       238.95         13  30 days 05:57:00\n",
       "18272.0      2696.90        147  37 days 08:02:00\n",
       "18273.0       153.00          2  87 days 08:27:00\n",
       "18274.0         0.10         22   9 days 09:36:00\n",
       "18276.0       323.36         16  13 days 02:53:00\n",
       "18277.0        97.63          9  50 days 04:32:00\n",
       "18278.0       173.90          9  65 days 07:56:00\n",
       "18280.0       180.60         10 269 days 10:02:00\n",
       "18281.0        80.82          7 172 days 09:01:00\n",
       "18282.0        98.76          8 114 days 04:44:00\n",
       "18283.0      1886.88        706   1 days 06:55:00\n",
       "18287.0      1837.28         70  34 days 10:25:00\n",
       "\n",
       "[4334 rows x 3 columns]"
      ]
     },
     "execution_count": 134,
     "metadata": {},
     "output_type": "execute_result"
    }
   ],
   "source": [
    "customer_total_revenue_invoice_count_since_purchase"
   ]
  },
  {
   "cell_type": "code",
   "execution_count": 76,
   "metadata": {},
   "outputs": [],
   "source": [
    "customer_total_revenue_invoice_count_since_purchase.set_index('CustomerID', inplace = True)"
   ]
  },
  {
   "cell_type": "code",
   "execution_count": null,
   "metadata": {},
   "outputs": [],
   "source": []
  },
  {
   "cell_type": "code",
   "execution_count": null,
   "metadata": {},
   "outputs": [],
   "source": []
  },
  {
   "cell_type": "code",
   "execution_count": 87,
   "metadata": {},
   "outputs": [],
   "source": [
    "monetary = customer_total_revenue_invoice_count_since_purchase.monetary"
   ]
  },
  {
   "cell_type": "code",
   "execution_count": 100,
   "metadata": {},
   "outputs": [
    {
     "name": "stdout",
     "output_type": "stream",
     "text": [
      "<class 'pandas.core.frame.DataFrame'>\n",
      "Float64Index: 4334 entries, 12346.0 to 18287.0\n",
      "Data columns (total 3 columns):\n",
      "monetary     4334 non-null float64\n",
      "frequency    4334 non-null int64\n",
      "recency      4334 non-null timedelta64[ns]\n",
      "dtypes: float64(1), int64(1), timedelta64[ns](1)\n",
      "memory usage: 295.4 KB\n"
     ]
    }
   ],
   "source": [
    "customer_total_revenue_invoice_count_since_purchase.info()"
   ]
  },
  {
   "cell_type": "code",
   "execution_count": 102,
   "metadata": {},
   "outputs": [
    {
     "data": {
      "text/plain": [
       "CustomerID\n",
       "12346.0     True\n",
       "12347.0    False\n",
       "12348.0    False\n",
       "12349.0    False\n",
       "12350.0    False\n",
       "12352.0    False\n",
       "12353.0    False\n",
       "12354.0    False\n",
       "12355.0    False\n",
       "12356.0    False\n",
       "12357.0    False\n",
       "12358.0    False\n",
       "12359.0    False\n",
       "12360.0    False\n",
       "12361.0    False\n",
       "12362.0    False\n",
       "12363.0    False\n",
       "12364.0    False\n",
       "12365.0    False\n",
       "12370.0    False\n",
       "12371.0    False\n",
       "12372.0    False\n",
       "12373.0    False\n",
       "12374.0    False\n",
       "12375.0    False\n",
       "12377.0    False\n",
       "12378.0    False\n",
       "12379.0    False\n",
       "12380.0    False\n",
       "12381.0    False\n",
       "           ...  \n",
       "18245.0    False\n",
       "18246.0    False\n",
       "18248.0    False\n",
       "18249.0    False\n",
       "18250.0    False\n",
       "18251.0    False\n",
       "18252.0    False\n",
       "18255.0    False\n",
       "18256.0    False\n",
       "18257.0    False\n",
       "18259.0    False\n",
       "18260.0    False\n",
       "18261.0    False\n",
       "18262.0    False\n",
       "18263.0    False\n",
       "18265.0    False\n",
       "18268.0     True\n",
       "18269.0    False\n",
       "18270.0    False\n",
       "18272.0    False\n",
       "18273.0    False\n",
       "18274.0     True\n",
       "18276.0    False\n",
       "18277.0    False\n",
       "18278.0    False\n",
       "18280.0    False\n",
       "18281.0    False\n",
       "18282.0    False\n",
       "18283.0    False\n",
       "18287.0    False\n",
       "Name: monetary, Length: 4334, dtype: bool"
      ]
     },
     "execution_count": 102,
     "metadata": {},
     "output_type": "execute_result"
    }
   ],
   "source": [
    "customer_total_revenue_invoice_count_since_purchase['monetary'] == 0"
   ]
  },
  {
   "cell_type": "code",
   "execution_count": 116,
   "metadata": {},
   "outputs": [],
   "source": [
    "customer_total_revenue_invoice_count_since_purchase['monetary'] = customer_total_revenue_invoice_count_since_purchase['monetary'].apply(lambda x: 0.1 if x <= 0 else x)"
   ]
  },
  {
   "cell_type": "code",
   "execution_count": 117,
   "metadata": {
    "scrolled": false
   },
   "outputs": [
    {
     "data": {
      "text/html": [
       "<div>\n",
       "<style scoped>\n",
       "    .dataframe tbody tr th:only-of-type {\n",
       "        vertical-align: middle;\n",
       "    }\n",
       "\n",
       "    .dataframe tbody tr th {\n",
       "        vertical-align: top;\n",
       "    }\n",
       "\n",
       "    .dataframe thead th {\n",
       "        text-align: right;\n",
       "    }\n",
       "</style>\n",
       "<table border=\"1\" class=\"dataframe\">\n",
       "  <thead>\n",
       "    <tr style=\"text-align: right;\">\n",
       "      <th></th>\n",
       "      <th>monetary</th>\n",
       "      <th>frequency</th>\n",
       "      <th>recency</th>\n",
       "    </tr>\n",
       "    <tr>\n",
       "      <th>CustomerID</th>\n",
       "      <th></th>\n",
       "      <th></th>\n",
       "      <th></th>\n",
       "    </tr>\n",
       "  </thead>\n",
       "  <tbody>\n",
       "    <tr>\n",
       "      <th>12346.0</th>\n",
       "      <td>0.10</td>\n",
       "      <td>2</td>\n",
       "      <td>317 days 09:37:00</td>\n",
       "    </tr>\n",
       "    <tr>\n",
       "      <th>12347.0</th>\n",
       "      <td>4085.18</td>\n",
       "      <td>171</td>\n",
       "      <td>31 days 07:29:00</td>\n",
       "    </tr>\n",
       "  </tbody>\n",
       "</table>\n",
       "</div>"
      ],
      "text/plain": [
       "            monetary  frequency           recency\n",
       "CustomerID                                       \n",
       "12346.0         0.10          2 317 days 09:37:00\n",
       "12347.0      4085.18        171  31 days 07:29:00"
      ]
     },
     "execution_count": 117,
     "metadata": {},
     "output_type": "execute_result"
    }
   ],
   "source": [
    "customer_total_revenue_invoice_count_since_purchase.head(2)"
   ]
  },
  {
   "cell_type": "code",
   "execution_count": 90,
   "metadata": {},
   "outputs": [
    {
     "data": {
      "text/plain": [
       "0"
      ]
     },
     "execution_count": 90,
     "metadata": {},
     "output_type": "execute_result"
    }
   ],
   "source": [
    "i"
   ]
  },
  {
   "cell_type": "code",
   "execution_count": 120,
   "metadata": {},
   "outputs": [
    {
     "data": {
      "image/png": "[encoded data removed]",
      "text/plain": [
       "<Figure size 1080x720 with 2 Axes>"
      ]
     },
     "metadata": {
      "needs_background": "light"
     },
     "output_type": "display_data"
    }
   ],
   "source": [
    "fit = np.polyfit(np.log(customer_total_revenue_invoice_count_since_purchase.frequency),\n",
    "                 np.log(customer_total_revenue_invoice_count_since_purchase.monetary),1)\n",
    "fit_fn = np.poly1d(fit) \n",
    "\n",
    "plt.figure(figsize=(15,10))\n",
    "plt.scatter(np.log(customer_total_revenue_invoice_count_since_purchase.frequency), \n",
    "            np.log(customer_total_revenue_invoice_count_since_purchase.monetary), \n",
    "            s=RecentPurchaseDays, alpha=0.2, c=RecentPurchaseDays,cmap=\"jet\")\n",
    "plt.plot(np.log(customer_total_revenue_invoice_count_since_purchase.frequency), fit_fn(np.log(customer_total_revenue_invoice_count_since_purchase.monetary)), 'red')\n",
    "plt.title('Scatter plot')\n",
    "plt.xlabel('number of purchases')\n",
    "plt.ylabel('revenue')\n",
    "plt.xlim(0,9)\n",
    "plt.ylim(2,12)\n",
    "plt.colorbar()\n",
    "plt.text(3.25, 3, '4317 customers plotted', fontsize=25)\n",
    "plt.text(3.25, 2.15, 'The smaller the plot point, the more recent the last purchase\\nThe numbers on the colorbar indicate the number of days\\nsince the last purchase', fontsize=12)\n",
    "plt.show()\n",
    "plt.close()\n"
   ]
  },
  {
   "cell_type": "markdown",
   "metadata": {},
   "source": [
    "Creating a loop to make an animated gif of the plot to better understand it"
   ]
  },
  {
   "cell_type": "code",
   "execution_count": null,
   "metadata": {},
   "outputs": [],
   "source": [
    "# i = 4317\n",
    "for i in range(1, len(customer_total_revenue_invoice_count_since_purchase)):\n",
    "    if i % 25 == 0 or i == 4317:\n",
    "        fit = np.polyfit(np.log(customer_total_revenue_invoice_count_since_purchase.InvoiceNo[0:i]),np.log(customer_total_revenue_invoice_count_since_purchase.TotalRevenue[0:i]),1)\n",
    "        fit_fn = np.poly1d(fit) \n",
    "\n",
    "        plt.figure(figsize=(15,10))\n",
    "        plt.scatter(np.log(customer_total_revenue_invoice_count_since_purchase.InvoiceNo[0:i]), \n",
    "                    np.log(customer_total_revenue_invoice_count_since_purchase.TotalRevenue[0:i]), \n",
    "                    s=RecentPurchaseDays[0:i], alpha=0.2, c=RecentPurchaseDays[0:i],cmap=\"jet\")\n",
    "        plt.plot(np.log(customer_total_revenue_invoice_count_since_purchase.InvoiceNo[0:i]), fit_fn(np.log(customer_total_revenue_invoice_count_since_purchase.InvoiceNo[0:i])), 'red')\n",
    "        plt.title('Scatter plot')\n",
    "        plt.xlabel('number of purchases')\n",
    "        plt.ylabel('revenue')\n",
    "        plt.xlim(0,9)\n",
    "        plt.ylim(2,12)\n",
    "        plt.colorbar()\n",
    "        plt.text(3.25, 3, str(i) + ' observations', fontsize=25)\n",
    "        plt.text(3.25, 2.15, 'The larger the plot point, the more recent the last purchase\\nThe numbers on the colorbar indicate the number of days\\nfrom the start to the last purchase made', fontsize=12)\n",
    "        plt.savefig('log_img/' + str(i) + '.png')\n",
    "        plt.close()\n"
   ]
  },
  {
   "cell_type": "code",
   "execution_count": null,
   "metadata": {},
   "outputs": [],
   "source": [
    "i = 4317\n",
    "fit = np.polyfit(np.log(customer_total_revenue_invoice_count_since_purchase.InvoiceNo[0:i]),np.log(customer_total_revenue_invoice_count_since_purchase.TotalRevenue[0:i]),1)\n",
    "fit_fn = np.poly1d(fit) \n",
    "\n",
    "plt.figure(figsize=(15,10))\n",
    "plt.scatter(np.log(customer_total_revenue_invoice_count_since_purchase.InvoiceNo[0:i]), \n",
    "            np.log(customer_total_revenue_invoice_count_since_purchase.TotalRevenue[0:i]), \n",
    "            s=RecentPurchaseDays[0:i], alpha=0.2, c=RecentPurchaseDays[0:i],cmap=\"jet\")\n",
    "plt.plot(np.log(customer_total_revenue_invoice_count_since_purchase.InvoiceNo[0:i]), fit_fn(np.log(customer_total_revenue_invoice_count_since_purchase.InvoiceNo[0:i])), 'red')\n",
    "plt.title('Scatter plot')\n",
    "plt.xlabel('number of purchases')\n",
    "plt.ylabel('revenue')\n",
    "plt.xlim(0,9)\n",
    "plt.ylim(2,12)\n",
    "plt.colorbar()\n",
    "plt.text(3.25, 3, str(i) + ' observations', fontsize=25)\n",
    "plt.text(3.25, 2.15, 'The larger the plot point, the more recent the last purchase\\nThe numbers on the colorbar indicate the number of days\\nfrom the start to the last purchase made', fontsize=12)\n",
    "plt.savefig('log_img/' + str(i) + '.png')\n",
    "plt.close()\n"
   ]
  },
  {
   "cell_type": "code",
   "execution_count": null,
   "metadata": {},
   "outputs": [],
   "source": [
    "# i = 4317\n",
    "for i in range(1, len(customer_total_revenue_invoice_count_since_purchase)):\n",
    "    if i % 25 == 0 or i == 4317:\n",
    "        fit = np.polyfit(customer_total_revenue_invoice_count_since_purchase.InvoiceNo[0:i],customer_total_revenue_invoice_count_since_purchase.TotalRevenue[0:i],1)\n",
    "        fit_fn = np.poly1d(fit) \n",
    "\n",
    "        plt.figure(figsize=(15,10))\n",
    "        plt.scatter(customer_total_revenue_invoice_count_since_purchase.InvoiceNo[0:i], \n",
    "                    customer_total_revenue_invoice_count_since_purchase.TotalRevenue[0:i], \n",
    "                    s=RecentPurchaseDays[0:i], alpha=0.2, c=RecentPurchaseDays[0:i],cmap=\"jet\")\n",
    "        plt.plot(customer_total_revenue_invoice_count_since_purchase.InvoiceNo[0:i], fit_fn(customer_total_revenue_invoice_count_since_purchase.InvoiceNo[0:i]), 'red')\n",
    "        plt.title('Scatter plot')\n",
    "        plt.xlabel('number of purchases')\n",
    "        plt.ylabel('revenue')\n",
    "        plt.xlim(0,8000)\n",
    "        plt.ylim(0,200000)\n",
    "        plt.text(3000, 26000, str(i) + ' observations', fontsize=25)\n",
    "        plt.text(3000, 9000, 'The larger the plot point, the more recent the last purchase\\nThe numbers on the colorbar indicate the number of days\\nfrom the start to the last purchase made', fontsize=12)\n",
    "        plt.colorbar()\n",
    "        plt.savefig('non_log_img/' + str(i) + '.png')\n",
    "        plt.close()\n",
    "\n",
    "\n",
    "i = 4317\n",
    "fit = np.polyfit(customer_total_revenue_invoice_count_since_purchase.InvoiceNo[0:i],customer_total_revenue_invoice_count_since_purchase.TotalRevenue[0:i],1)\n",
    "fit_fn = np.poly1d(fit) \n",
    "\n",
    "plt.figure(figsize=(15,10))\n",
    "plt.scatter(customer_total_revenue_invoice_count_since_purchase.InvoiceNo[0:i], \n",
    "            customer_total_revenue_invoice_count_since_purchase.TotalRevenue[0:i], \n",
    "            s=RecentPurchaseDays[0:i], alpha=0.2, c=RecentPurchaseDays[0:i],cmap=\"jet\")\n",
    "plt.plot(np.log(customer_total_revenue_invoice_count_since_purchase.InvoiceNo[0:i]), fit_fn(np.log(customer_total_revenue_invoice_count_since_purchase.InvoiceNo[0:i])), 'red')\n",
    "plt.title('Scatter plot')\n",
    "plt.xlabel('number of purchases')\n",
    "plt.ylabel('revenue')\n",
    "plt.colorbar()\n",
    "plt.xlim(0,8000)\n",
    "plt.ylim(0,200000)\n",
    "plt.text(3000, 26000, str(i) + ' observations', fontsize=25)\n",
    "plt.text(3000, 9000, 'The larger the plot point, the more recent the last purchase\\nThe numbers on the colorbar indicate the number of days\\nfrom the start to the last purchase made', fontsize=12)\n",
    "plt.savefig('non_log_img/' + str(i) + '.png')\n",
    "plt.close()\n"
   ]
  },
  {
   "cell_type": "code",
   "execution_count": null,
   "metadata": {},
   "outputs": [],
   "source": [
    "customer_total_revenue_invoice_count_since_purchase['SinceLastPurchase'] = RecentPurchaseDays"
   ]
  },
  {
   "cell_type": "code",
   "execution_count": null,
   "metadata": {},
   "outputs": [],
   "source": [
    "customer_total_revenue_invoice_count_since_purchase.head(5)"
   ]
  },
  {
   "cell_type": "code",
   "execution_count": 126,
   "metadata": {},
   "outputs": [
    {
     "data": {
      "text/plain": [
       "0       12346.0\n",
       "1       12347.0\n",
       "2       12348.0\n",
       "3       12349.0\n",
       "4       12350.0\n",
       "5       12352.0\n",
       "6       12353.0\n",
       "7       12354.0\n",
       "8       12355.0\n",
       "9       12356.0\n",
       "10      12357.0\n",
       "11      12358.0\n",
       "12      12359.0\n",
       "13      12360.0\n",
       "14      12361.0\n",
       "15      12362.0\n",
       "16      12363.0\n",
       "17      12364.0\n",
       "18      12365.0\n",
       "19      12370.0\n",
       "20      12371.0\n",
       "21      12372.0\n",
       "22      12373.0\n",
       "23      12374.0\n",
       "24      12375.0\n",
       "25      12377.0\n",
       "26      12378.0\n",
       "27      12379.0\n",
       "28      12380.0\n",
       "29      12381.0\n",
       "         ...   \n",
       "4304    18245.0\n",
       "4305    18246.0\n",
       "4306    18248.0\n",
       "4307    18249.0\n",
       "4308    18250.0\n",
       "4309    18251.0\n",
       "4310    18252.0\n",
       "4311    18255.0\n",
       "4312    18256.0\n",
       "4313    18257.0\n",
       "4314    18259.0\n",
       "4315    18260.0\n",
       "4316    18261.0\n",
       "4317    18262.0\n",
       "4318    18263.0\n",
       "4319    18265.0\n",
       "4320    18268.0\n",
       "4321    18269.0\n",
       "4322    18270.0\n",
       "4323    18272.0\n",
       "4324    18273.0\n",
       "4325    18274.0\n",
       "4326    18276.0\n",
       "4327    18277.0\n",
       "4328    18278.0\n",
       "4329    18280.0\n",
       "4330    18281.0\n",
       "4331    18282.0\n",
       "4332    18283.0\n",
       "4333    18287.0\n",
       "Name: CustomerID, Length: 4334, dtype: float64"
      ]
     },
     "execution_count": 126,
     "metadata": {},
     "output_type": "execute_result"
    }
   ],
   "source": [
    "customer_total_revenue_invoice_count_since_purchase.reset_index()['CustomerID']"
   ]
  },
  {
   "cell_type": "code",
   "execution_count": 128,
   "metadata": {},
   "outputs": [],
   "source": [
    "log_features = pd.DataFrame()\n",
    "\n",
    "log_features['monetary'] = np.log(customer_total_revenue_invoice_count_since_purchase['monetary'])\n"
   ]
  },
  {
   "cell_type": "code",
   "execution_count": 131,
   "metadata": {},
   "outputs": [],
   "source": [
    "log_features['frequency'] = np.log(customer_total_revenue_invoice_count_since_purchase['frequency'])"
   ]
  },
  {
   "cell_type": "code",
   "execution_count": 133,
   "metadata": {},
   "outputs": [
    {
     "data": {
      "text/plain": [
       "CustomerID\n",
       "12346.0   317 days 09:37:00\n",
       "12347.0    31 days 07:29:00\n",
       "12348.0    67 days 06:41:00\n",
       "12349.0    10 days 10:03:00\n",
       "12350.0   302 days 03:53:00\n",
       "12352.0    28 days 05:17:00\n",
       "12353.0   196 days 02:07:00\n",
       "12354.0   224 days 06:43:00\n",
       "12355.0   206 days 06:05:00\n",
       "12356.0    14 days 11:14:00\n",
       "12357.0    25 days 03:47:00\n",
       "12358.0   142 days 09:50:00\n",
       "12359.0    49 days 07:07:00\n",
       "12360.0    44 days 04:32:00\n",
       "12361.0   279 days 06:03:00\n",
       "12362.0     3 days 04:59:00\n",
       "12363.0   101 days 09:36:00\n",
       "12364.0    32 days 04:11:00\n",
       "12365.0   283 days 05:50:00\n",
       "12370.0    43 days 05:03:00\n",
       "12371.0    36 days 09:38:00\n",
       "12372.0    63 days 07:42:00\n",
       "12373.0   303 days 06:44:00\n",
       "12374.0    17 days 04:17:00\n",
       "12375.0     2 days 09:18:00\n",
       "12377.0   307 days 04:09:00\n",
       "12378.0   121 days 09:20:00\n",
       "12379.0    73 days 09:45:00\n",
       "12380.0    13 days 08:27:00\n",
       "12381.0    25 days 06:18:00\n",
       "                 ...       \n",
       "18245.0   141 days 05:25:00\n",
       "18246.0    15 days 08:05:00\n",
       "18248.0   105 days 13:40:00\n",
       "18249.0     9 days 04:47:00\n",
       "18250.0   293 days 05:55:00\n",
       "18251.0    79 days 04:51:00\n",
       "18252.0    42 days 07:11:00\n",
       "18255.0    81 days 06:38:00\n",
       "18256.0   346 days 11:27:00\n",
       "18257.0    31 days 05:06:00\n",
       "18259.0    16 days 07:20:00\n",
       "18260.0   164 days 07:17:00\n",
       "18261.0    35 days 04:18:00\n",
       "18262.0   132 days 03:50:00\n",
       "18263.0    15 days 03:35:00\n",
       "18265.0    64 days 05:44:00\n",
       "18268.0   126 days 00:41:00\n",
       "18269.0   350 days 04:15:00\n",
       "18270.0    30 days 05:57:00\n",
       "18272.0    37 days 08:02:00\n",
       "18273.0    87 days 08:27:00\n",
       "18274.0     9 days 09:36:00\n",
       "18276.0    13 days 02:53:00\n",
       "18277.0    50 days 04:32:00\n",
       "18278.0    65 days 07:56:00\n",
       "18280.0   269 days 10:02:00\n",
       "18281.0   172 days 09:01:00\n",
       "18282.0   114 days 04:44:00\n",
       "18283.0     1 days 06:55:00\n",
       "18287.0    34 days 10:25:00\n",
       "Name: recency, Length: 4334, dtype: timedelta64[ns]"
      ]
     },
     "execution_count": 133,
     "metadata": {},
     "output_type": "execute_result"
    }
   ],
   "source": [
    "customer_total_revenue_invoice_count_since_purchase['recency']"
   ]
  },
  {
   "cell_type": "code",
   "execution_count": 169,
   "metadata": {},
   "outputs": [
    {
     "name": "stderr",
     "output_type": "stream",
     "text": [
      "/Users/robblatt/anaconda3/envs/learn-env/lib/python3.6/site-packages/ipykernel_launcher.py:1: RuntimeWarning: divide by zero encountered in log\n",
      "  \"\"\"Entry point for launching an IPython kernel.\n"
     ]
    }
   ],
   "source": [
    "log_features['recency'] = np.log(customer_total_revenue_invoice_count_since_purchase['recency'])\n"
   ]
  },
  {
   "cell_type": "code",
   "execution_count": 170,
   "metadata": {},
   "outputs": [],
   "source": [
    "customer_total_revenue_invoice_count_since_purchase['recency'] = customer_total_revenue_invoice_count_since_purchase['recency'].apply(lambda x: 0.1 if x <= 0 else x)"
   ]
  },
  {
   "cell_type": "code",
   "execution_count": 175,
   "metadata": {},
   "outputs": [],
   "source": [
    "customers = customer_total_revenue_invoice_count_since_purchase.reset_index()['CustomerID']"
   ]
  },
  {
   "cell_type": "code",
   "execution_count": 179,
   "metadata": {
    "scrolled": true
   },
   "outputs": [],
   "source": [
    "log_features = log_features.set_index(customers)\n"
   ]
  },
  {
   "cell_type": "code",
   "execution_count": 180,
   "metadata": {},
   "outputs": [
    {
     "data": {
      "text/html": [
       "<div>\n",
       "<style scoped>\n",
       "    .dataframe tbody tr th:only-of-type {\n",
       "        vertical-align: middle;\n",
       "    }\n",
       "\n",
       "    .dataframe tbody tr th {\n",
       "        vertical-align: top;\n",
       "    }\n",
       "\n",
       "    .dataframe thead th {\n",
       "        text-align: right;\n",
       "    }\n",
       "</style>\n",
       "<table border=\"1\" class=\"dataframe\">\n",
       "  <thead>\n",
       "    <tr style=\"text-align: right;\">\n",
       "      <th></th>\n",
       "      <th>monetary</th>\n",
       "      <th>frequency</th>\n",
       "      <th>recency</th>\n",
       "    </tr>\n",
       "    <tr>\n",
       "      <th>CustomerID</th>\n",
       "      <th></th>\n",
       "      <th></th>\n",
       "      <th></th>\n",
       "    </tr>\n",
       "  </thead>\n",
       "  <tbody>\n",
       "    <tr>\n",
       "      <th>12346.0</th>\n",
       "      <td>-2.302585</td>\n",
       "      <td>0.693147</td>\n",
       "      <td>NaN</td>\n",
       "    </tr>\n",
       "    <tr>\n",
       "      <th>12347.0</th>\n",
       "      <td>8.315121</td>\n",
       "      <td>5.141664</td>\n",
       "      <td>NaN</td>\n",
       "    </tr>\n",
       "    <tr>\n",
       "      <th>12348.0</th>\n",
       "      <td>7.494007</td>\n",
       "      <td>3.433987</td>\n",
       "      <td>NaN</td>\n",
       "    </tr>\n",
       "    <tr>\n",
       "      <th>12349.0</th>\n",
       "      <td>7.471676</td>\n",
       "      <td>4.290459</td>\n",
       "      <td>NaN</td>\n",
       "    </tr>\n",
       "    <tr>\n",
       "      <th>12350.0</th>\n",
       "      <td>5.812338</td>\n",
       "      <td>2.833213</td>\n",
       "      <td>NaN</td>\n",
       "    </tr>\n",
       "    <tr>\n",
       "      <th>12352.0</th>\n",
       "      <td>7.343045</td>\n",
       "      <td>4.553877</td>\n",
       "      <td>NaN</td>\n",
       "    </tr>\n",
       "    <tr>\n",
       "      <th>12353.0</th>\n",
       "      <td>4.488636</td>\n",
       "      <td>1.386294</td>\n",
       "      <td>NaN</td>\n",
       "    </tr>\n",
       "    <tr>\n",
       "      <th>12354.0</th>\n",
       "      <td>6.984161</td>\n",
       "      <td>4.060443</td>\n",
       "      <td>NaN</td>\n",
       "    </tr>\n",
       "    <tr>\n",
       "      <th>12355.0</th>\n",
       "      <td>6.129921</td>\n",
       "      <td>2.564949</td>\n",
       "      <td>NaN</td>\n",
       "    </tr>\n",
       "    <tr>\n",
       "      <th>12356.0</th>\n",
       "      <td>7.941449</td>\n",
       "      <td>4.077537</td>\n",
       "      <td>NaN</td>\n",
       "    </tr>\n",
       "    <tr>\n",
       "      <th>12357.0</th>\n",
       "      <td>8.733541</td>\n",
       "      <td>4.875197</td>\n",
       "      <td>NaN</td>\n",
       "    </tr>\n",
       "    <tr>\n",
       "      <th>12358.0</th>\n",
       "      <td>6.183860</td>\n",
       "      <td>2.484907</td>\n",
       "      <td>NaN</td>\n",
       "    </tr>\n",
       "    <tr>\n",
       "      <th>12359.0</th>\n",
       "      <td>8.754126</td>\n",
       "      <td>5.521461</td>\n",
       "      <td>NaN</td>\n",
       "    </tr>\n",
       "    <tr>\n",
       "      <th>12360.0</th>\n",
       "      <td>7.886856</td>\n",
       "      <td>4.859812</td>\n",
       "      <td>NaN</td>\n",
       "    </tr>\n",
       "    <tr>\n",
       "      <th>12361.0</th>\n",
       "      <td>5.246498</td>\n",
       "      <td>2.302585</td>\n",
       "      <td>NaN</td>\n",
       "    </tr>\n",
       "    <tr>\n",
       "      <th>12362.0</th>\n",
       "      <td>8.439348</td>\n",
       "      <td>5.497168</td>\n",
       "      <td>NaN</td>\n",
       "    </tr>\n",
       "    <tr>\n",
       "      <th>12363.0</th>\n",
       "      <td>6.313548</td>\n",
       "      <td>3.135494</td>\n",
       "      <td>NaN</td>\n",
       "    </tr>\n",
       "    <tr>\n",
       "      <th>12364.0</th>\n",
       "      <td>6.910531</td>\n",
       "      <td>4.060443</td>\n",
       "      <td>NaN</td>\n",
       "    </tr>\n",
       "    <tr>\n",
       "      <th>12365.0</th>\n",
       "      <td>5.770475</td>\n",
       "      <td>3.135494</td>\n",
       "      <td>NaN</td>\n",
       "    </tr>\n",
       "    <tr>\n",
       "      <th>12370.0</th>\n",
       "      <td>8.173488</td>\n",
       "      <td>5.117994</td>\n",
       "      <td>NaN</td>\n",
       "    </tr>\n",
       "    <tr>\n",
       "      <th>12371.0</th>\n",
       "      <td>7.543252</td>\n",
       "      <td>4.143135</td>\n",
       "      <td>NaN</td>\n",
       "    </tr>\n",
       "    <tr>\n",
       "      <th>12372.0</th>\n",
       "      <td>7.168611</td>\n",
       "      <td>3.951244</td>\n",
       "      <td>NaN</td>\n",
       "    </tr>\n",
       "    <tr>\n",
       "      <th>12373.0</th>\n",
       "      <td>5.898801</td>\n",
       "      <td>2.639057</td>\n",
       "      <td>NaN</td>\n",
       "    </tr>\n",
       "    <tr>\n",
       "      <th>12374.0</th>\n",
       "      <td>6.610602</td>\n",
       "      <td>3.496508</td>\n",
       "      <td>NaN</td>\n",
       "    </tr>\n",
       "    <tr>\n",
       "      <th>12375.0</th>\n",
       "      <td>6.125777</td>\n",
       "      <td>2.833213</td>\n",
       "      <td>NaN</td>\n",
       "    </tr>\n",
       "    <tr>\n",
       "      <th>12377.0</th>\n",
       "      <td>7.395181</td>\n",
       "      <td>4.343805</td>\n",
       "      <td>NaN</td>\n",
       "    </tr>\n",
       "    <tr>\n",
       "      <th>12378.0</th>\n",
       "      <td>8.296202</td>\n",
       "      <td>5.389072</td>\n",
       "      <td>NaN</td>\n",
       "    </tr>\n",
       "    <tr>\n",
       "      <th>12379.0</th>\n",
       "      <td>6.745577</td>\n",
       "      <td>3.713572</td>\n",
       "      <td>NaN</td>\n",
       "    </tr>\n",
       "    <tr>\n",
       "      <th>12380.0</th>\n",
       "      <td>7.908593</td>\n",
       "      <td>4.653960</td>\n",
       "      <td>NaN</td>\n",
       "    </tr>\n",
       "    <tr>\n",
       "      <th>12381.0</th>\n",
       "      <td>7.412734</td>\n",
       "      <td>4.430817</td>\n",
       "      <td>NaN</td>\n",
       "    </tr>\n",
       "    <tr>\n",
       "      <th>...</th>\n",
       "      <td>...</td>\n",
       "      <td>...</td>\n",
       "      <td>...</td>\n",
       "    </tr>\n",
       "    <tr>\n",
       "      <th>18245.0</th>\n",
       "      <td>7.386043</td>\n",
       "      <td>4.804021</td>\n",
       "      <td>NaN</td>\n",
       "    </tr>\n",
       "    <tr>\n",
       "      <th>18246.0</th>\n",
       "      <td>6.390408</td>\n",
       "      <td>1.386294</td>\n",
       "      <td>NaN</td>\n",
       "    </tr>\n",
       "    <tr>\n",
       "      <th>18248.0</th>\n",
       "      <td>6.663158</td>\n",
       "      <td>3.891820</td>\n",
       "      <td>NaN</td>\n",
       "    </tr>\n",
       "    <tr>\n",
       "      <th>18249.0</th>\n",
       "      <td>4.557449</td>\n",
       "      <td>2.079442</td>\n",
       "      <td>NaN</td>\n",
       "    </tr>\n",
       "    <tr>\n",
       "      <th>18250.0</th>\n",
       "      <td>5.837497</td>\n",
       "      <td>3.091042</td>\n",
       "      <td>NaN</td>\n",
       "    </tr>\n",
       "    <tr>\n",
       "      <th>18251.0</th>\n",
       "      <td>8.369788</td>\n",
       "      <td>2.772589</td>\n",
       "      <td>NaN</td>\n",
       "    </tr>\n",
       "    <tr>\n",
       "      <th>18252.0</th>\n",
       "      <td>6.266574</td>\n",
       "      <td>4.584967</td>\n",
       "      <td>NaN</td>\n",
       "    </tr>\n",
       "    <tr>\n",
       "      <th>18255.0</th>\n",
       "      <td>4.637637</td>\n",
       "      <td>1.791759</td>\n",
       "      <td>NaN</td>\n",
       "    </tr>\n",
       "    <tr>\n",
       "      <th>18256.0</th>\n",
       "      <td>-2.302585</td>\n",
       "      <td>1.386294</td>\n",
       "      <td>NaN</td>\n",
       "    </tr>\n",
       "    <tr>\n",
       "      <th>18257.0</th>\n",
       "      <td>7.725498</td>\n",
       "      <td>4.812184</td>\n",
       "      <td>NaN</td>\n",
       "    </tr>\n",
       "    <tr>\n",
       "      <th>18259.0</th>\n",
       "      <td>7.757308</td>\n",
       "      <td>3.737670</td>\n",
       "      <td>NaN</td>\n",
       "    </tr>\n",
       "    <tr>\n",
       "      <th>18260.0</th>\n",
       "      <td>7.861342</td>\n",
       "      <td>4.941642</td>\n",
       "      <td>NaN</td>\n",
       "    </tr>\n",
       "    <tr>\n",
       "      <th>18261.0</th>\n",
       "      <td>5.781484</td>\n",
       "      <td>3.044522</td>\n",
       "      <td>NaN</td>\n",
       "    </tr>\n",
       "    <tr>\n",
       "      <th>18262.0</th>\n",
       "      <td>5.007163</td>\n",
       "      <td>2.564949</td>\n",
       "      <td>NaN</td>\n",
       "    </tr>\n",
       "    <tr>\n",
       "      <th>18263.0</th>\n",
       "      <td>7.099268</td>\n",
       "      <td>4.127134</td>\n",
       "      <td>NaN</td>\n",
       "    </tr>\n",
       "    <tr>\n",
       "      <th>18265.0</th>\n",
       "      <td>6.686497</td>\n",
       "      <td>3.828641</td>\n",
       "      <td>NaN</td>\n",
       "    </tr>\n",
       "    <tr>\n",
       "      <th>18268.0</th>\n",
       "      <td>-2.302585</td>\n",
       "      <td>0.693147</td>\n",
       "      <td>NaN</td>\n",
       "    </tr>\n",
       "    <tr>\n",
       "      <th>18269.0</th>\n",
       "      <td>4.933754</td>\n",
       "      <td>2.079442</td>\n",
       "      <td>NaN</td>\n",
       "    </tr>\n",
       "    <tr>\n",
       "      <th>18270.0</th>\n",
       "      <td>5.476254</td>\n",
       "      <td>2.564949</td>\n",
       "      <td>NaN</td>\n",
       "    </tr>\n",
       "    <tr>\n",
       "      <th>18272.0</th>\n",
       "      <td>7.899858</td>\n",
       "      <td>4.990433</td>\n",
       "      <td>NaN</td>\n",
       "    </tr>\n",
       "    <tr>\n",
       "      <th>18273.0</th>\n",
       "      <td>5.030438</td>\n",
       "      <td>0.693147</td>\n",
       "      <td>NaN</td>\n",
       "    </tr>\n",
       "    <tr>\n",
       "      <th>18274.0</th>\n",
       "      <td>-2.302585</td>\n",
       "      <td>3.091042</td>\n",
       "      <td>NaN</td>\n",
       "    </tr>\n",
       "    <tr>\n",
       "      <th>18276.0</th>\n",
       "      <td>5.778766</td>\n",
       "      <td>2.772589</td>\n",
       "      <td>NaN</td>\n",
       "    </tr>\n",
       "    <tr>\n",
       "      <th>18277.0</th>\n",
       "      <td>4.581185</td>\n",
       "      <td>2.197225</td>\n",
       "      <td>NaN</td>\n",
       "    </tr>\n",
       "    <tr>\n",
       "      <th>18278.0</th>\n",
       "      <td>5.158480</td>\n",
       "      <td>2.197225</td>\n",
       "      <td>NaN</td>\n",
       "    </tr>\n",
       "    <tr>\n",
       "      <th>18280.0</th>\n",
       "      <td>5.196285</td>\n",
       "      <td>2.302585</td>\n",
       "      <td>NaN</td>\n",
       "    </tr>\n",
       "    <tr>\n",
       "      <th>18281.0</th>\n",
       "      <td>4.392224</td>\n",
       "      <td>1.945910</td>\n",
       "      <td>NaN</td>\n",
       "    </tr>\n",
       "    <tr>\n",
       "      <th>18282.0</th>\n",
       "      <td>4.592693</td>\n",
       "      <td>2.079442</td>\n",
       "      <td>NaN</td>\n",
       "    </tr>\n",
       "    <tr>\n",
       "      <th>18283.0</th>\n",
       "      <td>7.542680</td>\n",
       "      <td>6.559615</td>\n",
       "      <td>NaN</td>\n",
       "    </tr>\n",
       "    <tr>\n",
       "      <th>18287.0</th>\n",
       "      <td>7.516041</td>\n",
       "      <td>4.248495</td>\n",
       "      <td>NaN</td>\n",
       "    </tr>\n",
       "  </tbody>\n",
       "</table>\n",
       "<p>4334 rows × 3 columns</p>\n",
       "</div>"
      ],
      "text/plain": [
       "            monetary  frequency  recency\n",
       "CustomerID                              \n",
       "12346.0    -2.302585   0.693147      NaN\n",
       "12347.0     8.315121   5.141664      NaN\n",
       "12348.0     7.494007   3.433987      NaN\n",
       "12349.0     7.471676   4.290459      NaN\n",
       "12350.0     5.812338   2.833213      NaN\n",
       "12352.0     7.343045   4.553877      NaN\n",
       "12353.0     4.488636   1.386294      NaN\n",
       "12354.0     6.984161   4.060443      NaN\n",
       "12355.0     6.129921   2.564949      NaN\n",
       "12356.0     7.941449   4.077537      NaN\n",
       "12357.0     8.733541   4.875197      NaN\n",
       "12358.0     6.183860   2.484907      NaN\n",
       "12359.0     8.754126   5.521461      NaN\n",
       "12360.0     7.886856   4.859812      NaN\n",
       "12361.0     5.246498   2.302585      NaN\n",
       "12362.0     8.439348   5.497168      NaN\n",
       "12363.0     6.313548   3.135494      NaN\n",
       "12364.0     6.910531   4.060443      NaN\n",
       "12365.0     5.770475   3.135494      NaN\n",
       "12370.0     8.173488   5.117994      NaN\n",
       "12371.0     7.543252   4.143135      NaN\n",
       "12372.0     7.168611   3.951244      NaN\n",
       "12373.0     5.898801   2.639057      NaN\n",
       "12374.0     6.610602   3.496508      NaN\n",
       "12375.0     6.125777   2.833213      NaN\n",
       "12377.0     7.395181   4.343805      NaN\n",
       "12378.0     8.296202   5.389072      NaN\n",
       "12379.0     6.745577   3.713572      NaN\n",
       "12380.0     7.908593   4.653960      NaN\n",
       "12381.0     7.412734   4.430817      NaN\n",
       "...              ...        ...      ...\n",
       "18245.0     7.386043   4.804021      NaN\n",
       "18246.0     6.390408   1.386294      NaN\n",
       "18248.0     6.663158   3.891820      NaN\n",
       "18249.0     4.557449   2.079442      NaN\n",
       "18250.0     5.837497   3.091042      NaN\n",
       "18251.0     8.369788   2.772589      NaN\n",
       "18252.0     6.266574   4.584967      NaN\n",
       "18255.0     4.637637   1.791759      NaN\n",
       "18256.0    -2.302585   1.386294      NaN\n",
       "18257.0     7.725498   4.812184      NaN\n",
       "18259.0     7.757308   3.737670      NaN\n",
       "18260.0     7.861342   4.941642      NaN\n",
       "18261.0     5.781484   3.044522      NaN\n",
       "18262.0     5.007163   2.564949      NaN\n",
       "18263.0     7.099268   4.127134      NaN\n",
       "18265.0     6.686497   3.828641      NaN\n",
       "18268.0    -2.302585   0.693147      NaN\n",
       "18269.0     4.933754   2.079442      NaN\n",
       "18270.0     5.476254   2.564949      NaN\n",
       "18272.0     7.899858   4.990433      NaN\n",
       "18273.0     5.030438   0.693147      NaN\n",
       "18274.0    -2.302585   3.091042      NaN\n",
       "18276.0     5.778766   2.772589      NaN\n",
       "18277.0     4.581185   2.197225      NaN\n",
       "18278.0     5.158480   2.197225      NaN\n",
       "18280.0     5.196285   2.302585      NaN\n",
       "18281.0     4.392224   1.945910      NaN\n",
       "18282.0     4.592693   2.079442      NaN\n",
       "18283.0     7.542680   6.559615      NaN\n",
       "18287.0     7.516041   4.248495      NaN\n",
       "\n",
       "[4334 rows x 3 columns]"
      ]
     },
     "execution_count": 180,
     "metadata": {},
     "output_type": "execute_result"
    }
   ],
   "source": [
    "log_features"
   ]
  },
  {
   "cell_type": "markdown",
   "metadata": {},
   "source": [
    "# There are a series of purchases with no customer number"
   ]
  },
  {
   "cell_type": "code",
   "execution_count": null,
   "metadata": {
    "scrolled": false
   },
   "outputs": [],
   "source": [
    "df_no_customer = df[df['CustomerID'].isna()]"
   ]
  },
  {
   "cell_type": "code",
   "execution_count": null,
   "metadata": {},
   "outputs": [],
   "source": [
    "df_no_customer.head(2)"
   ]
  },
  {
   "cell_type": "markdown",
   "metadata": {},
   "source": [
    "### Grouping the invoices without customers into a separate dataframe to better understand the data"
   ]
  },
  {
   "cell_type": "markdown",
   "metadata": {},
   "source": [
    "This is simply to explore the data, since customers are a part of our target, this data has to be set aside."
   ]
  },
  {
   "cell_type": "code",
   "execution_count": null,
   "metadata": {},
   "outputs": [],
   "source": [
    "no_customer_quantity = df_no_customer.groupby(['InvoiceNo'], as_index=False)['Quantity'].sum()"
   ]
  },
  {
   "cell_type": "code",
   "execution_count": null,
   "metadata": {},
   "outputs": [],
   "source": [
    "no_customer_revenue = df_no_customer.groupby(['InvoiceNo'], as_index=False)['TotalRevenue'].sum()"
   ]
  },
  {
   "cell_type": "code",
   "execution_count": null,
   "metadata": {},
   "outputs": [],
   "source": [
    "no_customer_revenue.describe()"
   ]
  },
  {
   "cell_type": "code",
   "execution_count": null,
   "metadata": {},
   "outputs": [],
   "source": [
    "no_customer_df_by_invoice = no_customer_quantity.merge(no_customer_revenue, on='InvoiceNo', sort=True)"
   ]
  },
  {
   "cell_type": "code",
   "execution_count": null,
   "metadata": {},
   "outputs": [],
   "source": [
    "no_customer_df_by_invoice.head()"
   ]
  },
  {
   "cell_type": "code",
   "execution_count": null,
   "metadata": {},
   "outputs": [],
   "source": [
    "len(no_customer_df_by_invoice)"
   ]
  },
  {
   "cell_type": "code",
   "execution_count": null,
   "metadata": {},
   "outputs": [],
   "source": [
    "    plt.figure(figsize=(12,12))\n",
    "    plt.scatter(np.log(no_customer_df_by_invoice.Quantity), \n",
    "                np.log(no_customer_df_by_invoice.TotalRevenue))\n",
    "#     plt.title('Non-log transformed')\n",
    "    plt.xlabel('quantity')\n",
    "    plt.ylabel('revenue')\n",
    "#     plt.xlim(0,8000)\n",
    "#     plt.ylim(0,30000)\n",
    "#     plt.text(4000, 1000, str(i) + ' observations', fontsize=60)\n",
    "    plt.show()\n",
    "#     plt.close()"
   ]
  },
  {
   "cell_type": "markdown",
   "metadata": {},
   "source": [
    "# Clustering"
   ]
  },
  {
   "cell_type": "code",
   "execution_count": null,
   "metadata": {},
   "outputs": [],
   "source": [
    "from sklearn.datasets import make_moons\n",
    "from sklearn.cluster import AgglomerativeClustering\n",
    "from sklearn.neighbors import KernelDensity\n",
    "np.random.seed(0)"
   ]
  },
  {
   "cell_type": "code",
   "execution_count": null,
   "metadata": {},
   "outputs": [],
   "source": [
    "customer_total_revenue_invoice_count_since_purchase.drop('DaysSincePurchase', inplace=True, axis = 1)"
   ]
  },
  {
   "cell_type": "code",
   "execution_count": null,
   "metadata": {},
   "outputs": [],
   "source": [
    "agg_clust = AgglomerativeClustering(n_clusters=5)\n",
    "agg_clust\n",
    "assigned_clust = agg_clust.fit_predict(customer_total_revenue_invoice_count_since_purchase)\n",
    "plt.scatter(customer_total_revenue_invoice_count_since_purchase.InvoiceNo, customer_total_revenue_invoice_count_since_purchase.TotalRevenue, c = assigned_clust, s = 10);"
   ]
  },
  {
   "cell_type": "code",
   "execution_count": null,
   "metadata": {},
   "outputs": [],
   "source": [
    "customer_total_revenue_invoice_count_since_purchase.head(2)"
   ]
  },
  {
   "cell_type": "code",
   "execution_count": null,
   "metadata": {},
   "outputs": [],
   "source": [
    "log_customer_total_revenue_invoice_count_since_purchase = customer_total_revenue_invoice_count_since_purchase.copy()"
   ]
  },
  {
   "cell_type": "code",
   "execution_count": null,
   "metadata": {},
   "outputs": [],
   "source": [
    "log_customer_total_revenue_invoice_count_since_purchase.TotalRevenue = np.log(log_customer_total_revenue_invoice_count_since_purchase.TotalRevenue)"
   ]
  },
  {
   "cell_type": "code",
   "execution_count": null,
   "metadata": {},
   "outputs": [],
   "source": [
    "log_customer_total_revenue_invoice_count_since_purchase.InvoiceNo = np.log(log_customer_total_revenue_invoice_count_since_purchase.InvoiceNo)"
   ]
  },
  {
   "cell_type": "code",
   "execution_count": null,
   "metadata": {},
   "outputs": [],
   "source": [
    "#  log_customer_total_revenue_invoice_count_since_purchase.SinceLastPurchase = np.log(log_customer_total_revenue_invoice_count_since_purchase.SinceLastPurchase)"
   ]
  },
  {
   "cell_type": "code",
   "execution_count": null,
   "metadata": {},
   "outputs": [],
   "source": [
    "log_customer_total_revenue_invoice_count_since_purchase.head(2)"
   ]
  },
  {
   "cell_type": "code",
   "execution_count": null,
   "metadata": {},
   "outputs": [],
   "source": [
    "log_customer_total_revenue_invoice_count_since_purchase_2 = log_customer_total_revenue_invoice_count_since_purchase.copy()"
   ]
  },
  {
   "cell_type": "code",
   "execution_count": null,
   "metadata": {},
   "outputs": [],
   "source": [
    "log_customer_total_revenue_invoice_count_since_purchase_2.drop('SinceLastPurchase', axis=1, inplace=True)"
   ]
  },
  {
   "cell_type": "code",
   "execution_count": null,
   "metadata": {},
   "outputs": [],
   "source": [
    "agg_clust = AgglomerativeClustering(n_clusters=10)\n",
    "agg_clust\n",
    "assigned_clust = agg_clust.fit_predict(log_customer_total_revenue_invoice_count_since_purchase_2)\n",
    "plt.scatter(log_customer_total_revenue_invoice_count_since_purchase_2.InvoiceNo, log_customer_total_revenue_invoice_count_since_purchase_2.TotalRevenue, c = assigned_clust, s = 10);"
   ]
  },
  {
   "cell_type": "code",
   "execution_count": null,
   "metadata": {},
   "outputs": [],
   "source": [
    "log_customer_total_revenue_invoice_count_since_purchase.set_index('CustomerID', inplace=True)"
   ]
  },
  {
   "cell_type": "code",
   "execution_count": null,
   "metadata": {},
   "outputs": [],
   "source": [
    "agg_clust = AgglomerativeClustering(n_clusters=10)\n",
    "agg_clust\n",
    "assigned_clust = agg_clust.fit_predict(log_customer_total_revenue_invoice_count_since_purchase_2)\n",
    "plt.figure(figsize=(8,10))\n",
    "plt.scatter(log_customer_total_revenue_invoice_count_since_purchase_2.InvoiceNo, log_customer_total_revenue_invoice_count_since_purchase_2.TotalRevenue, c = assigned_clust, s = 10);"
   ]
  },
  {
   "cell_type": "code",
   "execution_count": null,
   "metadata": {},
   "outputs": [],
   "source": [
    "log_customer_total_revenue_invoice_count_since_purchase_2.head()"
   ]
  },
  {
   "cell_type": "code",
   "execution_count": null,
   "metadata": {},
   "outputs": [],
   "source": [
    "!pip install plot_agglomerative_agorithm"
   ]
  },
  {
   "cell_type": "code",
   "execution_count": null,
   "metadata": {},
   "outputs": [],
   "source": [
    "from scipy.cluster.hierarchy import dendrogram, ward\n"
   ]
  },
  {
   "cell_type": "code",
   "execution_count": null,
   "metadata": {},
   "outputs": [],
   "source": [
    "X = log_customer_total_revenue_invoice_count_since_purchase_2"
   ]
  },
  {
   "cell_type": "code",
   "execution_count": null,
   "metadata": {},
   "outputs": [],
   "source": [
    "linkage_array = ward(X)\n",
    "\n",
    "# use the ward() function\n",
    "linkage_array = ward(X)\n",
    "\n",
    "# Now we plot the dendrogram for the linkage_array containing the distances\n",
    "# between clusters\n",
    "dendrogram(linkage_array)\n",
    "\n",
    "ax = plt.gca()\n",
    "bounds = ax.get_xbound()\n",
    "ax.plot(bounds, [16, 16], '--', c='k')\n",
    "ax.plot(bounds, [9, 9], '--', c='k')\n",
    "ax.text(bounds[1], 16, ' 2 clusters', va='center', fontdict={'size': 12})\n",
    "ax.text(bounds[1], 9, ' 3 clusters', va='center', fontdict={'size': 12})\n",
    "plt.xlabel(\"Data index\")\n",
    "plt.ylabel(\"Cluster distance\")"
   ]
  },
  {
   "cell_type": "code",
   "execution_count": null,
   "metadata": {},
   "outputs": [],
   "source": [
    "agg_comp = AgglomerativeClustering(linkage =\"complete\", n_clusters=6)\n",
    "agg_avg = AgglomerativeClustering(linkage =\"average\", n_clusters=6)\n",
    "agg_ward = AgglomerativeClustering(linkage =\"ward\", n_clusters=6)\n",
    "\n",
    "as_comp = agg_comp.fit_predict(X)\n",
    "as_avg = agg_avg.fit_predict(X)\n",
    "as_ward = agg_ward.fit_predict(X)"
   ]
  },
  {
   "cell_type": "code",
   "execution_count": null,
   "metadata": {},
   "outputs": [],
   "source": [
    "plt.scatter(X.InvoiceNo, X.TotalRevenue, c = as_comp, s = 10);"
   ]
  },
  {
   "cell_type": "code",
   "execution_count": null,
   "metadata": {},
   "outputs": [],
   "source": [
    "plt.scatter(X.InvoiceNo, X.TotalRevenue, c = as_avg, s = 10);"
   ]
  },
  {
   "cell_type": "code",
   "execution_count": null,
   "metadata": {},
   "outputs": [],
   "source": [
    "plt.scatter(X.InvoiceNo, X.TotalRevenue, c = as_ward, s = 10);"
   ]
  },
  {
   "cell_type": "code",
   "execution_count": null,
   "metadata": {},
   "outputs": [],
   "source": [
    "from scipy.cluster.hierarchy import dendrogram, ward\n",
    "linkage_array = ward(X)\n",
    "\n",
    "# Now we plot the dendrogram for the linkage_array containing the distances\n",
    "# between clusters\n",
    "dendrogram(linkage_array)\n",
    "\n",
    "ax = plt.gca()\n",
    "bounds = ax.get_xbound()\n",
    "plt.xlabel(\"Sample index\")\n",
    "plt.ylabel(\"Cluster distance\");"
   ]
  },
  {
   "cell_type": "code",
   "execution_count": null,
   "metadata": {},
   "outputs": [],
   "source": [
    "plt.title('Hierarchical Clustering Dendrogram (truncated)')\n",
    "dendrogram(linkage_array,  truncate_mode='lastp', p=10)\n",
    "plt.xlabel('cluster size')\n",
    "plt.ylabel('distance')\n",
    "plt.show()"
   ]
  },
  {
   "cell_type": "code",
   "execution_count": null,
   "metadata": {},
   "outputs": [],
   "source": [
    "from sklearn.cluster import KMeans\n",
    "\n",
    "k_means = KMeans(n_clusters = 6)\n",
    "k_means.fit(X)\n",
    "y_hat = k_means.predict(X)\n",
    "\n",
    "plt.scatter(X.InvoiceNo, X.TotalRevenue, c = y_hat, s = 10)\n",
    "cl_centers = k_means.cluster_centers_\n",
    "plt.scatter(cl_centers[:, 0], cl_centers[:, 1], c='black', s=40);"
   ]
  },
  {
   "cell_type": "code",
   "execution_count": null,
   "metadata": {},
   "outputs": [],
   "source": [
    "labels_kmeans = k_means.labels_\n",
    "labels_comp = agg_comp.labels_\n",
    "labels_avg = agg_avg.labels_\n",
    "labels_ward = agg_ward.labels_"
   ]
  },
  {
   "cell_type": "code",
   "execution_count": null,
   "metadata": {},
   "outputs": [],
   "source": [
    "cl_centers"
   ]
  },
  {
   "cell_type": "code",
   "execution_count": null,
   "metadata": {},
   "outputs": [],
   "source": [
    "labels_kmeans"
   ]
  },
  {
   "cell_type": "code",
   "execution_count": null,
   "metadata": {},
   "outputs": [],
   "source": [
    "X"
   ]
  },
  {
   "cell_type": "code",
   "execution_count": null,
   "metadata": {},
   "outputs": [],
   "source": []
  }
 ],
 "metadata": {
  "kernelspec": {
   "display_name": "learn-env",
   "language": "python",
   "name": "learn-env"
  },
  "language_info": {
   "codemirror_mode": {
    "name": "ipython",
    "version": 3
   },
   "file_extension": ".py",
   "mimetype": "text/x-python",
   "name": "python",
   "nbconvert_exporter": "python",
   "pygments_lexer": "ipython3",
   "version": "3.6.6"
  }
 },
 "nbformat": 4,
 "nbformat_minor": 2
}
